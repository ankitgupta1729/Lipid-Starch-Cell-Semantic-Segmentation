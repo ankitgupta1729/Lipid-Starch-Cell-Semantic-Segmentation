{
 "cells": [
  {
   "cell_type": "code",
   "execution_count": 1,
   "id": "6a1b6563",
   "metadata": {},
   "outputs": [],
   "source": [
    "import numpy as np \n",
    "import pandas as pd \n",
    "import matplotlib.pyplot as plt\n",
    "import glob\n",
    "import cv2\n",
    "import pickle\n",
    "from datetime import datetime \n",
    "from sklearn.metrics import roc_auc_score\n",
    "from sklearn import metrics\n",
    "\n",
    "from keras.models import Model\n",
    "#from keras.layers import Conv2D\n",
    "import os\n",
    "from keras.applications.vgg16 import VGG16"
   ]
  },
  {
   "cell_type": "code",
   "execution_count": 2,
   "id": "f600fb6f",
   "metadata": {},
   "outputs": [],
   "source": [
    "#Resizing images is optional, CNNs are ok with large images\n",
    "SIZE_X = 256 #Resize images (height  = X, width = Y)\n",
    "SIZE_Y = 256\n",
    "\n",
    "#Capture training image info as a list\n",
    "train_images = []\n"
   ]
  },
  {
   "cell_type": "code",
   "execution_count": 3,
   "id": "1cc80785",
   "metadata": {},
   "outputs": [],
   "source": [
    "for directory_path in glob.glob(\"train_images\"):\n",
    "    for img_path in glob.glob(os.path.join(directory_path, \"*.png\")):\n",
    "        img = cv2.imread(img_path, cv2.IMREAD_COLOR)       \n",
    "        img = cv2.resize(img, (SIZE_Y, SIZE_X))\n",
    "        img = cv2.cvtColor(img, cv2.COLOR_RGB2BGR)\n",
    "        train_images.append(img)\n",
    "        #train_labels.append(label)\n",
    "#Convert list to array for machine learning processing        \n",
    "train_images = np.array(train_images)\n",
    "\n",
    "#Capture mask/label info as a list\n",
    "train_masks = [] \n",
    "for directory_path in glob.glob(\"train_masks\"):\n",
    "    for mask_path in glob.glob(os.path.join(directory_path, \"*.png\")):\n",
    "        mask = cv2.imread(mask_path, 0)       \n",
    "        mask = cv2.resize(mask, (SIZE_Y, SIZE_X))\n",
    "        #mask = cv2.cvtColor(mask, cv2.COLOR_RGB2BGR)\n",
    "        train_masks.append(mask)\n",
    "        #train_labels.append(label)\n",
    "#Convert list to array for machine learning processing          \n",
    "train_masks = np.array(train_masks)\n"
   ]
  },
  {
   "cell_type": "code",
   "execution_count": 4,
   "id": "6b010725",
   "metadata": {},
   "outputs": [],
   "source": [
    "#Use customary x_train and y_train variables\n",
    "X_train = train_images\n",
    "y_train = train_masks\n",
    "y_train = np.expand_dims(y_train, axis=3) #May not be necessary.. leftover from previous code "
   ]
  },
  {
   "cell_type": "code",
   "execution_count": null,
   "id": "278628c9",
   "metadata": {},
   "outputs": [],
   "source": [
    "#Load VGG16 model wothout classifier/fully connected layers\n",
    "#Load imagenet weights that we are going to use as feature generators\n",
    "VGG_model = VGG16(weights='imagenet', include_top=False, input_shape=(SIZE_X, SIZE_Y, 3))"
   ]
  },
  {
   "cell_type": "code",
   "execution_count": null,
   "id": "109649c4",
   "metadata": {},
   "outputs": [],
   "source": [
    "#Make loaded layers as non-trainable. This is important as we want to work with pre-trained weights\n",
    "for layer in VGG_model.layers:\n",
    "    layer.trainable = False\n",
    "    \n",
    "VGG_model.summary()  #Trainable parameters will be 0\n"
   ]
  },
  {
   "cell_type": "code",
   "execution_count": null,
   "id": "d208ff2d",
   "metadata": {},
   "outputs": [],
   "source": [
    "#After the first 2 convolutional layers the image dimension changes. \n",
    "#So for easy comparison to Y (labels) let us only take first 2 conv layers\n",
    "#and create a new model to extract features\n",
    "#New model with only first 2 conv layers\n",
    "new_model = Model(inputs=VGG_model.input, outputs=VGG_model.get_layer('block1_conv2').output)\n",
    "new_model.summary()\n"
   ]
  },
  {
   "cell_type": "code",
   "execution_count": null,
   "id": "eb6e232b",
   "metadata": {},
   "outputs": [],
   "source": [
    "#Now, let us apply feature extractor to our training data\n",
    "features=new_model.predict(X_train)\n",
    "\n",
    "#Plot features to view them\n",
    "square = 8\n",
    "ix=1\n",
    "for _ in range(square):\n",
    "    for _ in range(square):\n",
    "        ax = plt.subplot(square, square, ix)\n",
    "        ax.set_xticks([])\n",
    "        ax.set_yticks([])\n",
    "        plt.imshow(features[0,:,:,ix-1], cmap='gray')\n",
    "        ix +=1\n",
    "plt.show()\n"
   ]
  },
  {
   "cell_type": "code",
   "execution_count": null,
   "id": "9beb4cea",
   "metadata": {},
   "outputs": [],
   "source": [
    "#Reassign 'features' as X to make it easy to follow\n",
    "X=features\n",
    "X = X.reshape(-1, X.shape[3])  #Make it compatible for Random Forest and match Y labels\n",
    "\n",
    "#Reshape Y to match X\n",
    "Y = y_train.reshape(-1)\n",
    "\n",
    "#Combine X and Y into a dataframe to make it easy to drop all rows with Y values 0\n",
    "#In our labels Y values 0 = unlabeled pixels. \n",
    "dataset = pd.DataFrame(X)\n",
    "dataset['Label'] = Y\n",
    "print(dataset['Label'].unique())\n",
    "print(dataset['Label'].value_counts())"
   ]
  },
  {
   "cell_type": "code",
   "execution_count": null,
   "id": "2733eb54",
   "metadata": {},
   "outputs": [],
   "source": [
    "##If we do not want to include pixels with value 0 \n",
    "##e.g. Sometimes unlabeled pixels may be given a value 0.\n",
    "#dataset = dataset[dataset['Label'] != 0]\n"
   ]
  },
  {
   "cell_type": "code",
   "execution_count": null,
   "id": "b65ab4c5",
   "metadata": {},
   "outputs": [],
   "source": [
    "#Redefine X and Y \n",
    "X_for_training = dataset.drop(labels = ['Label'], axis=1)\n",
    "X_for_training = X_for_training.values  #Convert to array\n",
    "Y_for_training = dataset['Label']\n",
    "Y_for_training = Y_for_training.values  #Convert to array\n"
   ]
  },
  {
   "cell_type": "code",
   "execution_count": null,
   "id": "72d6372c",
   "metadata": {},
   "outputs": [],
   "source": [
    "########################\n",
    "#Load validation image and prepare it for prediction\n",
    "validation_img = cv2.imread('test_images/A6.png', cv2.IMREAD_COLOR)       \n",
    "validation_img = cv2.resize(validation_img, (SIZE_Y, SIZE_X))\n",
    "validation_img = cv2.cvtColor(validation_img, cv2.COLOR_RGB2BGR)\n",
    "validation_img = np.expand_dims(validation_img, axis=0)\n",
    "\n",
    "X_validation_feature = new_model.predict(validation_img)\n",
    "X_validation_feature = X_validation_feature.reshape(-1, X_validation_feature.shape[3])\n",
    "\n",
    "#Load corresponding ground truth image (Mask) and reshape it for comparison with prediction\n",
    "truth = cv2.imread('test_masks/A6.png', 0).reshape(-1)\n",
    "####################################################################################\n",
    "#Note: You can work with pandas dataframes instead of arrays by please beware that\n",
    "#xboost drops columns with zero values which creates a mismatch between column names\n",
    "#for training and future testing datasets. So it is safe to work with arrays. \n"
   ]
  },
  {
   "cell_type": "code",
   "execution_count": null,
   "id": "cde2e66d",
   "metadata": {},
   "outputs": [],
   "source": [
    "#XGBOOST\n",
    "import xgboost as xgb\n",
    "xgb_model = xgb.XGBClassifier()\n",
    "\n",
    "start = datetime.now() \n",
    "# Train the model on training data\n",
    "xgb_model.fit(X_for_training, Y_for_training) \n",
    "stop = datetime.now()\n",
    "\n",
    "#Execution time of the model \n",
    "execution_time_xgb = stop-start \n",
    "print(\"XGBoost execution time is: \", execution_time_xgb)"
   ]
  },
  {
   "cell_type": "code",
   "execution_count": null,
   "id": "4719a3fc",
   "metadata": {},
   "outputs": [],
   "source": [
    "Save model for future use\n",
    "filename = 'model_XG.sav'\n",
    "pickle.dump(model, open(filename, 'wb'))"
   ]
  },
  {
   "cell_type": "code",
   "execution_count": null,
   "id": "ef2eb855",
   "metadata": {},
   "outputs": [],
   "source": [
    "\n",
    "\n",
    "################################################################\n",
    "#########################################################\n",
    "#Check accuracy and IoU on validation image\n",
    "\n",
    "#Load model.... \n",
    "#loaded_model = pickle.load(open(filename, 'rb'))\n",
    "\n",
    "\n",
    "prediction_xgb = xgb_model.predict(X_validation_feature)\n",
    "\n",
    "#Pixel accuracy - not a good metric for semantic segmentation\n",
    "#Print overall accuracy\n",
    "\n",
    "print (\"Accuracy = \", metrics.accuracy_score(truth, prediction_xgb))\n"
   ]
  },
  {
   "cell_type": "code",
   "execution_count": null,
   "id": "7b2b760c",
   "metadata": {},
   "outputs": [],
   "source": [
    "##############################################\n",
    "\n",
    "#IOU for each class is..\n",
    "# IOU = true_positive / (true_positive + false_positive + false_negative).\n",
    "\n",
    "#Using built in keras function\n",
    "from keras.metrics import MeanIoU\n",
    "num_classes = 5\n",
    "IOU_XGB = MeanIoU(num_classes=num_classes)  \n",
    "IOU_XGB.update_state(truth, prediction_xgb)\n",
    "print(\"Mean IoU for XGBoost = \", IOU_XGB.result().numpy())\n",
    "\n",
    "#############################################################################"
   ]
  },
  {
   "cell_type": "code",
   "execution_count": null,
   "id": "430f4249",
   "metadata": {},
   "outputs": [],
   "source": [
    "#Light GBM\n",
    "\n",
    "import lightgbm as lgb\n",
    " #Class names for LGBM start at 0 so reassigning labels from 1,2,3,4 to 0,1,2,3\n",
    "Y_for_training = Y_for_training-1 \n",
    "d_train = lgb.Dataset(X_for_training, label=Y_for_training)\n",
    "\n",
    "# https://lightgbm.readthedocs.io/en/latest/Parameters.html\n",
    "lgbm_params = {'learning_rate':0.05, 'boosting_type':'dart',    #Try dart for better accuracy\n",
    "              'objective':'multiclass',\n",
    "              'metric': 'multi_logloss',\n",
    "              'num_leaves':100,\n",
    "              'max_depth':10,\n",
    "              'num_class':4}  #no.of unique values in the target class not inclusive of the end value\n"
   ]
  },
  {
   "cell_type": "code",
   "execution_count": null,
   "id": "25f07724",
   "metadata": {},
   "outputs": [],
   "source": [
    "start=datetime.now()\n",
    "lgb_model = lgb.train(lgbm_params, d_train, 50) #50 iterations. Increase iterations for small learning rates\n",
    "stop=datetime.now()\n",
    "\n",
    "execution_time_lgbm = stop-start\n",
    "print(\"LGBM execution time is: \", execution_time_lgbm)\n"
   ]
  },
  {
   "cell_type": "code",
   "execution_count": null,
   "id": "e9a8b996",
   "metadata": {},
   "outputs": [],
   "source": [
    "#Prediction on test data\n",
    "prediction_lgb=lgb_model.predict(X_validation_feature)\n",
    "\n",
    "#Model predicts probabilities. Need to convert these to classes.\n",
    "prediction_lgbm = np.array([np.argmax(i) for i in prediction_lgb])\n",
    "prediction_lgbm = prediction_lgbm+1  #Change labels back to original to compare against ground truth\n",
    "prediction_image_lgbm = prediction_lgbm.reshape(mask.shape)\n",
    "plt.imshow(prediction_image_lgbm, cmap='gray')\n",
    "print (\"Accuracy with LGBM = \", metrics.accuracy_score(truth, prediction_lgbm))\n"
   ]
  },
  {
   "cell_type": "code",
   "execution_count": null,
   "id": "3c145588",
   "metadata": {},
   "outputs": [],
   "source": [
    "IOU_LGBM = MeanIoU(num_classes=num_classes)  \n",
    "IOU_LGBM.update_state(truth, prediction_lgbm)\n",
    "print(\"Mean IoU for LGBM = \", IOU_LGBM.result().numpy())"
   ]
  },
  {
   "cell_type": "code",
   "execution_count": null,
   "id": "2d6f0534",
   "metadata": {},
   "outputs": [],
   "source": [
    "##################################################\n",
    "#SUMMARY\n",
    "print(\"################################################\")\n",
    "print(\"LGBM execution time is: \", execution_time_lgbm)\n",
    "print(\"XGBoost execution time is: \", execution_time_xgb)\n",
    "print(\"################################################\")\n",
    "print (\"Accuracy with LGBM = \", metrics.accuracy_score(prediction_lgbm, truth))\n",
    "print (\"Accuracy with XGBoost= \", metrics.accuracy_score(prediction_xgb, truth))\n",
    "print(\"################################################\")\n",
    "print(\"Mean IoU for LGBM = \", IOU_LGBM.result().numpy())\n",
    "print(\"Mean IoU for XGBoost = \", IOU_XGB.result().numpy())"
   ]
  },
  {
   "cell_type": "code",
   "execution_count": null,
   "id": "2ec6e755",
   "metadata": {},
   "outputs": [],
   "source": []
  },
  {
   "cell_type": "code",
   "execution_count": null,
   "id": "e0e940a3",
   "metadata": {},
   "outputs": [],
   "source": []
  }
 ],
 "metadata": {
  "kernelspec": {
   "display_name": "Python 3 (ipykernel)",
   "language": "python",
   "name": "python3"
  },
  "language_info": {
   "codemirror_mode": {
    "name": "ipython",
    "version": 3
   },
   "file_extension": ".py",
   "mimetype": "text/x-python",
   "name": "python",
   "nbconvert_exporter": "python",
   "pygments_lexer": "ipython3",
   "version": "3.9.19"
  }
 },
 "nbformat": 4,
 "nbformat_minor": 5
}
