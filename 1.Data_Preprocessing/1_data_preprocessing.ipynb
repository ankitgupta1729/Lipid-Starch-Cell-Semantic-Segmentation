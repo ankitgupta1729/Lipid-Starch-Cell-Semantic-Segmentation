{
 "cells": [
  {
   "cell_type": "code",
   "execution_count": 1,
   "id": "a5405d30",
   "metadata": {},
   "outputs": [],
   "source": [
    "import warnings\n",
    "import os\n",
    "import shutil\n",
    "warnings.filterwarnings('ignore')"
   ]
  },
  {
   "cell_type": "code",
   "execution_count": 2,
   "id": "6d06b435",
   "metadata": {},
   "outputs": [
    {
     "data": {
      "text/plain": [
       "'/home/ankit/Desktop/ml/Lipid-Starch-Semantic-Segmentation'"
      ]
     },
     "execution_count": 2,
     "metadata": {},
     "output_type": "execute_result"
    }
   ],
   "source": [
    "os.getcwd()"
   ]
  },
  {
   "cell_type": "code",
   "execution_count": 3,
   "id": "97a36f88",
   "metadata": {},
   "outputs": [],
   "source": [
    "path=os.path.join(os.getcwd(),'temp_images/')\n",
    "if os.path.isdir(path):\n",
    "    shutil.rmtree(path)\n",
    "path=os.path.join(os.getcwd(),'masked_images/')\n",
    "if os.path.isdir(path):\n",
    "    shutil.rmtree(path)\n",
    "path=os.path.join(os.getcwd(),'original_images/')\n",
    "if os.path.isdir(path):\n",
    "    shutil.rmtree(path)"
   ]
  },
  {
   "cell_type": "code",
   "execution_count": 4,
   "id": "412f3e16",
   "metadata": {},
   "outputs": [],
   "source": [
    "os.makedirs('temp_images')\n",
    "os.makedirs('masked_images')\n",
    "os.makedirs('original_images')"
   ]
  },
  {
   "cell_type": "code",
   "execution_count": 5,
   "id": "f2081a55",
   "metadata": {},
   "outputs": [
    {
     "name": "stdout",
     "output_type": "stream",
     "text": [
      "image: RIL1211_13.json\n"
     ]
    },
    {
     "name": "stderr",
     "output_type": "stream",
     "text": [
      "2024-08-06 12:17:41,557 [\u001b[1m\u001b[97mINFO   \u001b[0m] \u001b[36mexport_json\u001b[0m:\u001b[36mmain\u001b[0m:\u001b[36m66\u001b[0m- \u001b[1m\u001b[97mSaved to: temp_images/RIL1211_13\u001b[0m\n"
     ]
    },
    {
     "name": "stdout",
     "output_type": "stream",
     "text": [
      "image: E5.json\n"
     ]
    },
    {
     "name": "stderr",
     "output_type": "stream",
     "text": [
      "2024-08-06 12:17:42,741 [\u001b[1m\u001b[97mINFO   \u001b[0m] \u001b[36mexport_json\u001b[0m:\u001b[36mmain\u001b[0m:\u001b[36m66\u001b[0m- \u001b[1m\u001b[97mSaved to: temp_images/E5\u001b[0m\n"
     ]
    },
    {
     "name": "stdout",
     "output_type": "stream",
     "text": [
      "image: Pond2_20.json\n"
     ]
    },
    {
     "name": "stderr",
     "output_type": "stream",
     "text": [
      "2024-08-06 12:17:43,937 [\u001b[1m\u001b[97mINFO   \u001b[0m] \u001b[36mexport_json\u001b[0m:\u001b[36mmain\u001b[0m:\u001b[36m66\u001b[0m- \u001b[1m\u001b[97mSaved to: temp_images/Pond2_20\u001b[0m\n"
     ]
    },
    {
     "name": "stdout",
     "output_type": "stream",
     "text": [
      "image: RIL1217_2.json\n"
     ]
    },
    {
     "name": "stderr",
     "output_type": "stream",
     "text": [
      "2024-08-06 12:17:45,966 [\u001b[1m\u001b[97mINFO   \u001b[0m] \u001b[36mexport_json\u001b[0m:\u001b[36mmain\u001b[0m:\u001b[36m66\u001b[0m- \u001b[1m\u001b[97mSaved to: temp_images/RIL1217_2\u001b[0m\n"
     ]
    },
    {
     "name": "stdout",
     "output_type": "stream",
     "text": [
      "image: RIL 1216_17.json\n"
     ]
    },
    {
     "name": "stderr",
     "output_type": "stream",
     "text": [
      "usage: labelme_export_json [-h] [-o OUT] json_file\n",
      "labelme_export_json: error: unrecognized arguments: 1216_17.json 1216_17\n"
     ]
    },
    {
     "name": "stdout",
     "output_type": "stream",
     "text": [
      "image: POND_007.json\n"
     ]
    },
    {
     "name": "stderr",
     "output_type": "stream",
     "text": [
      "2024-08-06 12:17:48,925 [\u001b[1m\u001b[97mINFO   \u001b[0m] \u001b[36mexport_json\u001b[0m:\u001b[36mmain\u001b[0m:\u001b[36m66\u001b[0m- \u001b[1m\u001b[97mSaved to: temp_images/POND_007\u001b[0m\n"
     ]
    },
    {
     "name": "stdout",
     "output_type": "stream",
     "text": [
      "image: 19.json\n"
     ]
    },
    {
     "name": "stderr",
     "output_type": "stream",
     "text": [
      "2024-08-06 12:17:50,770 [\u001b[1m\u001b[97mINFO   \u001b[0m] \u001b[36mexport_json\u001b[0m:\u001b[36mmain\u001b[0m:\u001b[36m66\u001b[0m- \u001b[1m\u001b[97mSaved to: temp_images/19\u001b[0m\n",
      "mkdir: cannot create directory ‘temp_images/RIL’: File exists\n"
     ]
    },
    {
     "name": "stdout",
     "output_type": "stream",
     "text": [
      "image: RIL 1216_5.json\n"
     ]
    },
    {
     "name": "stderr",
     "output_type": "stream",
     "text": [
      "usage: labelme_export_json [-h] [-o OUT] json_file\n",
      "labelme_export_json: error: unrecognized arguments: 1216_5.json 1216_5\n",
      "mkdir: cannot create directory ‘temp_images/RIL’: File exists\n"
     ]
    },
    {
     "name": "stdout",
     "output_type": "stream",
     "text": [
      "image: RIL 601_12.json\n"
     ]
    },
    {
     "name": "stderr",
     "output_type": "stream",
     "text": [
      "usage: labelme_export_json [-h] [-o OUT] json_file\n",
      "labelme_export_json: error: unrecognized arguments: 601_12.json 601_12\n",
      "mkdir: cannot create directory ‘temp_images/RIL’: File exists\n"
     ]
    },
    {
     "name": "stdout",
     "output_type": "stream",
     "text": [
      "image: RIL 1216_7.json\n"
     ]
    },
    {
     "name": "stderr",
     "output_type": "stream",
     "text": [
      "usage: labelme_export_json [-h] [-o OUT] json_file\n",
      "labelme_export_json: error: unrecognized arguments: 1216_7.json 1216_7\n"
     ]
    },
    {
     "name": "stdout",
     "output_type": "stream",
     "text": [
      "image: RIL1217_1.json\n"
     ]
    },
    {
     "name": "stderr",
     "output_type": "stream",
     "text": [
      "2024-08-06 12:17:55,625 [\u001b[1m\u001b[97mINFO   \u001b[0m] \u001b[36mexport_json\u001b[0m:\u001b[36mmain\u001b[0m:\u001b[36m66\u001b[0m- \u001b[1m\u001b[97mSaved to: temp_images/RIL1217_1\u001b[0m\n"
     ]
    },
    {
     "name": "stdout",
     "output_type": "stream",
     "text": [
      "image: F17.json\n"
     ]
    },
    {
     "name": "stderr",
     "output_type": "stream",
     "text": [
      "2024-08-06 12:17:57,381 [\u001b[1m\u001b[97mINFO   \u001b[0m] \u001b[36mexport_json\u001b[0m:\u001b[36mmain\u001b[0m:\u001b[36m66\u001b[0m- \u001b[1m\u001b[97mSaved to: temp_images/F17\u001b[0m\n"
     ]
    },
    {
     "name": "stdout",
     "output_type": "stream",
     "text": [
      "image: HighSpeedFraction_7.json\n"
     ]
    },
    {
     "name": "stderr",
     "output_type": "stream",
     "text": [
      "2024-08-06 12:17:58,594 [\u001b[1m\u001b[97mINFO   \u001b[0m] \u001b[36mexport_json\u001b[0m:\u001b[36mmain\u001b[0m:\u001b[36m66\u001b[0m- \u001b[1m\u001b[97mSaved to: temp_images/HighSpeedFraction_7\u001b[0m\n"
     ]
    },
    {
     "name": "stdout",
     "output_type": "stream",
     "text": [
      "image: D11.json\n"
     ]
    },
    {
     "name": "stderr",
     "output_type": "stream",
     "text": [
      "2024-08-06 12:17:59,796 [\u001b[1m\u001b[97mINFO   \u001b[0m] \u001b[36mexport_json\u001b[0m:\u001b[36mmain\u001b[0m:\u001b[36m66\u001b[0m- \u001b[1m\u001b[97mSaved to: temp_images/D11\u001b[0m\n"
     ]
    },
    {
     "name": "stdout",
     "output_type": "stream",
     "text": [
      "image: RIL1217_19.json\n"
     ]
    },
    {
     "name": "stderr",
     "output_type": "stream",
     "text": [
      "2024-08-06 12:18:01,866 [\u001b[1m\u001b[97mINFO   \u001b[0m] \u001b[36mexport_json\u001b[0m:\u001b[36mmain\u001b[0m:\u001b[36m66\u001b[0m- \u001b[1m\u001b[97mSaved to: temp_images/RIL1217_19\u001b[0m\n"
     ]
    },
    {
     "name": "stdout",
     "output_type": "stream",
     "text": [
      "image: Z4.json\n"
     ]
    },
    {
     "name": "stderr",
     "output_type": "stream",
     "text": [
      "2024-08-06 12:18:03,655 [\u001b[1m\u001b[97mINFO   \u001b[0m] \u001b[36mexport_json\u001b[0m:\u001b[36mmain\u001b[0m:\u001b[36m66\u001b[0m- \u001b[1m\u001b[97mSaved to: temp_images/Z4\u001b[0m\n"
     ]
    },
    {
     "name": "stdout",
     "output_type": "stream",
     "text": [
      "image: B1.json\n"
     ]
    },
    {
     "name": "stderr",
     "output_type": "stream",
     "text": [
      "2024-08-06 12:18:04,823 [\u001b[1m\u001b[97mINFO   \u001b[0m] \u001b[36mexport_json\u001b[0m:\u001b[36mmain\u001b[0m:\u001b[36m66\u001b[0m- \u001b[1m\u001b[97mSaved to: temp_images/B1\u001b[0m\n"
     ]
    },
    {
     "name": "stdout",
     "output_type": "stream",
     "text": [
      "image: B20.json\n"
     ]
    },
    {
     "name": "stderr",
     "output_type": "stream",
     "text": [
      "2024-08-06 12:18:06,005 [\u001b[1m\u001b[97mINFO   \u001b[0m] \u001b[36mexport_json\u001b[0m:\u001b[36mmain\u001b[0m:\u001b[36m66\u001b[0m- \u001b[1m\u001b[97mSaved to: temp_images/B20\u001b[0m\n"
     ]
    },
    {
     "name": "stdout",
     "output_type": "stream",
     "text": [
      "image: RIL1211_7.json\n"
     ]
    },
    {
     "name": "stderr",
     "output_type": "stream",
     "text": [
      "2024-08-06 12:18:08,025 [\u001b[1m\u001b[97mINFO   \u001b[0m] \u001b[36mexport_json\u001b[0m:\u001b[36mmain\u001b[0m:\u001b[36m66\u001b[0m- \u001b[1m\u001b[97mSaved to: temp_images/RIL1211_7\u001b[0m\n"
     ]
    },
    {
     "name": "stdout",
     "output_type": "stream",
     "text": [
      "image: GP07-Germplasm0015.json\n"
     ]
    },
    {
     "name": "stderr",
     "output_type": "stream",
     "text": [
      "2024-08-06 12:18:27,196 [\u001b[1m\u001b[97mINFO   \u001b[0m] \u001b[36mexport_json\u001b[0m:\u001b[36mmain\u001b[0m:\u001b[36m66\u001b[0m- \u001b[1m\u001b[97mSaved to: temp_images/GP07-Germplasm0015\u001b[0m\n"
     ]
    },
    {
     "name": "stdout",
     "output_type": "stream",
     "text": [
      "image: PondFix_15i.json\n"
     ]
    },
    {
     "name": "stderr",
     "output_type": "stream",
     "text": [
      "2024-08-06 12:18:28,448 [\u001b[1m\u001b[97mINFO   \u001b[0m] \u001b[36mexport_json\u001b[0m:\u001b[36mmain\u001b[0m:\u001b[36m66\u001b[0m- \u001b[1m\u001b[97mSaved to: temp_images/PondFix_15i\u001b[0m\n"
     ]
    },
    {
     "name": "stdout",
     "output_type": "stream",
     "text": [
      "image: T9.json\n"
     ]
    },
    {
     "name": "stderr",
     "output_type": "stream",
     "text": [
      "2024-08-06 12:18:30,284 [\u001b[1m\u001b[97mINFO   \u001b[0m] \u001b[36mexport_json\u001b[0m:\u001b[36mmain\u001b[0m:\u001b[36m66\u001b[0m- \u001b[1m\u001b[97mSaved to: temp_images/T9\u001b[0m\n"
     ]
    },
    {
     "name": "stdout",
     "output_type": "stream",
     "text": [
      "image: M4.json\n"
     ]
    },
    {
     "name": "stderr",
     "output_type": "stream",
     "text": [
      "2024-08-06 12:18:32,103 [\u001b[1m\u001b[97mINFO   \u001b[0m] \u001b[36mexport_json\u001b[0m:\u001b[36mmain\u001b[0m:\u001b[36m66\u001b[0m- \u001b[1m\u001b[97mSaved to: temp_images/M4\u001b[0m\n"
     ]
    },
    {
     "name": "stdout",
     "output_type": "stream",
     "text": [
      "image: V7.json\n"
     ]
    },
    {
     "name": "stderr",
     "output_type": "stream",
     "text": [
      "2024-08-06 12:18:33,939 [\u001b[1m\u001b[97mINFO   \u001b[0m] \u001b[36mexport_json\u001b[0m:\u001b[36mmain\u001b[0m:\u001b[36m66\u001b[0m- \u001b[1m\u001b[97mSaved to: temp_images/V7\u001b[0m\n"
     ]
    },
    {
     "name": "stdout",
     "output_type": "stream",
     "text": [
      "image: E7.json\n"
     ]
    },
    {
     "name": "stderr",
     "output_type": "stream",
     "text": [
      "2024-08-06 12:18:35,117 [\u001b[1m\u001b[97mINFO   \u001b[0m] \u001b[36mexport_json\u001b[0m:\u001b[36mmain\u001b[0m:\u001b[36m66\u001b[0m- \u001b[1m\u001b[97mSaved to: temp_images/E7\u001b[0m\n"
     ]
    },
    {
     "name": "stdout",
     "output_type": "stream",
     "text": [
      "image: tem1.json\n"
     ]
    },
    {
     "name": "stderr",
     "output_type": "stream",
     "text": [
      "2024-08-06 12:18:54,731 [\u001b[1m\u001b[97mINFO   \u001b[0m] \u001b[36mexport_json\u001b[0m:\u001b[36mmain\u001b[0m:\u001b[36m66\u001b[0m- \u001b[1m\u001b[97mSaved to: temp_images/tem1\u001b[0m\n"
     ]
    },
    {
     "name": "stdout",
     "output_type": "stream",
     "text": [
      "image: Gagva_LabFixed_8.json\n"
     ]
    },
    {
     "name": "stderr",
     "output_type": "stream",
     "text": [
      "2024-08-06 12:18:55,960 [\u001b[1m\u001b[97mINFO   \u001b[0m] \u001b[36mexport_json\u001b[0m:\u001b[36mmain\u001b[0m:\u001b[36m66\u001b[0m- \u001b[1m\u001b[97mSaved to: temp_images/Gagva_LabFixed_8\u001b[0m\n",
      "mkdir: cannot create directory ‘temp_images/RIL’: File exists\n"
     ]
    },
    {
     "name": "stdout",
     "output_type": "stream",
     "text": [
      "image: RIL 1216_9.json\n"
     ]
    },
    {
     "name": "stderr",
     "output_type": "stream",
     "text": [
      "usage: labelme_export_json [-h] [-o OUT] json_file\n",
      "labelme_export_json: error: unrecognized arguments: 1216_9.json 1216_9\n"
     ]
    },
    {
     "name": "stdout",
     "output_type": "stream",
     "text": [
      "image: M1.json\n"
     ]
    },
    {
     "name": "stderr",
     "output_type": "stream",
     "text": [
      "2024-08-06 12:18:58,823 [\u001b[1m\u001b[97mINFO   \u001b[0m] \u001b[36mexport_json\u001b[0m:\u001b[36mmain\u001b[0m:\u001b[36m66\u001b[0m- \u001b[1m\u001b[97mSaved to: temp_images/M1\u001b[0m\n"
     ]
    },
    {
     "name": "stdout",
     "output_type": "stream",
     "text": [
      "image: RIL1217_13.json\n"
     ]
    },
    {
     "name": "stderr",
     "output_type": "stream",
     "text": [
      "2024-08-06 12:19:00,891 [\u001b[1m\u001b[97mINFO   \u001b[0m] \u001b[36mexport_json\u001b[0m:\u001b[36mmain\u001b[0m:\u001b[36m66\u001b[0m- \u001b[1m\u001b[97mSaved to: temp_images/RIL1217_13\u001b[0m\n"
     ]
    },
    {
     "name": "stdout",
     "output_type": "stream",
     "text": [
      "image: 6.json\n"
     ]
    },
    {
     "name": "stderr",
     "output_type": "stream",
     "text": [
      "2024-08-06 12:19:02,881 [\u001b[1m\u001b[97mINFO   \u001b[0m] \u001b[36mexport_json\u001b[0m:\u001b[36mmain\u001b[0m:\u001b[36m66\u001b[0m- \u001b[1m\u001b[97mSaved to: temp_images/6\u001b[0m\n"
     ]
    },
    {
     "name": "stdout",
     "output_type": "stream",
     "text": [
      "image: Pond2_8.json\n"
     ]
    },
    {
     "name": "stderr",
     "output_type": "stream",
     "text": [
      "2024-08-06 12:19:04,091 [\u001b[1m\u001b[97mINFO   \u001b[0m] \u001b[36mexport_json\u001b[0m:\u001b[36mmain\u001b[0m:\u001b[36m66\u001b[0m- \u001b[1m\u001b[97mSaved to: temp_images/Pond2_8\u001b[0m\n"
     ]
    },
    {
     "name": "stdout",
     "output_type": "stream",
     "text": [
      "image: D1.json\n"
     ]
    },
    {
     "name": "stderr",
     "output_type": "stream",
     "text": [
      "2024-08-06 12:19:05,291 [\u001b[1m\u001b[97mINFO   \u001b[0m] \u001b[36mexport_json\u001b[0m:\u001b[36mmain\u001b[0m:\u001b[36m66\u001b[0m- \u001b[1m\u001b[97mSaved to: temp_images/D1\u001b[0m\n"
     ]
    },
    {
     "name": "stdout",
     "output_type": "stream",
     "text": [
      "image: T4.json\n"
     ]
    },
    {
     "name": "stderr",
     "output_type": "stream",
     "text": [
      "2024-08-06 12:19:07,172 [\u001b[1m\u001b[97mINFO   \u001b[0m] \u001b[36mexport_json\u001b[0m:\u001b[36mmain\u001b[0m:\u001b[36m66\u001b[0m- \u001b[1m\u001b[97mSaved to: temp_images/T4\u001b[0m\n"
     ]
    },
    {
     "name": "stdout",
     "output_type": "stream",
     "text": [
      "image: T10.json\n"
     ]
    },
    {
     "name": "stderr",
     "output_type": "stream",
     "text": [
      "2024-08-06 12:19:08,982 [\u001b[1m\u001b[97mINFO   \u001b[0m] \u001b[36mexport_json\u001b[0m:\u001b[36mmain\u001b[0m:\u001b[36m66\u001b[0m- \u001b[1m\u001b[97mSaved to: temp_images/T10\u001b[0m\n"
     ]
    },
    {
     "name": "stdout",
     "output_type": "stream",
     "text": [
      "image: E11.json\n"
     ]
    },
    {
     "name": "stderr",
     "output_type": "stream",
     "text": [
      "2024-08-06 12:19:10,227 [\u001b[1m\u001b[97mINFO   \u001b[0m] \u001b[36mexport_json\u001b[0m:\u001b[36mmain\u001b[0m:\u001b[36m66\u001b[0m- \u001b[1m\u001b[97mSaved to: temp_images/E11\u001b[0m\n"
     ]
    },
    {
     "name": "stdout",
     "output_type": "stream",
     "text": [
      "image: F2.json\n"
     ]
    },
    {
     "name": "stderr",
     "output_type": "stream",
     "text": [
      "2024-08-06 12:19:11,996 [\u001b[1m\u001b[97mINFO   \u001b[0m] \u001b[36mexport_json\u001b[0m:\u001b[36mmain\u001b[0m:\u001b[36m66\u001b[0m- \u001b[1m\u001b[97mSaved to: temp_images/F2\u001b[0m\n"
     ]
    },
    {
     "name": "stdout",
     "output_type": "stream",
     "text": [
      "image: 17.json\n"
     ]
    },
    {
     "name": "stderr",
     "output_type": "stream",
     "text": [
      "2024-08-06 12:19:13,907 [\u001b[1m\u001b[97mINFO   \u001b[0m] \u001b[36mexport_json\u001b[0m:\u001b[36mmain\u001b[0m:\u001b[36m66\u001b[0m- \u001b[1m\u001b[97mSaved to: temp_images/17\u001b[0m\n"
     ]
    },
    {
     "name": "stdout",
     "output_type": "stream",
     "text": [
      "image: RIL1217_14.json\n"
     ]
    },
    {
     "name": "stderr",
     "output_type": "stream",
     "text": [
      "2024-08-06 12:19:15,922 [\u001b[1m\u001b[97mINFO   \u001b[0m] \u001b[36mexport_json\u001b[0m:\u001b[36mmain\u001b[0m:\u001b[36m66\u001b[0m- \u001b[1m\u001b[97mSaved to: temp_images/RIL1217_14\u001b[0m\n"
     ]
    },
    {
     "name": "stdout",
     "output_type": "stream",
     "text": [
      "image: S8.json\n"
     ]
    },
    {
     "name": "stderr",
     "output_type": "stream",
     "text": [
      "2024-08-06 12:19:17,761 [\u001b[1m\u001b[97mINFO   \u001b[0m] \u001b[36mexport_json\u001b[0m:\u001b[36mmain\u001b[0m:\u001b[36m66\u001b[0m- \u001b[1m\u001b[97mSaved to: temp_images/S8\u001b[0m\n"
     ]
    },
    {
     "name": "stdout",
     "output_type": "stream",
     "text": [
      "image: RIL1211_19.json\n"
     ]
    },
    {
     "name": "stderr",
     "output_type": "stream",
     "text": [
      "2024-08-06 12:19:19,743 [\u001b[1m\u001b[97mINFO   \u001b[0m] \u001b[36mexport_json\u001b[0m:\u001b[36mmain\u001b[0m:\u001b[36m66\u001b[0m- \u001b[1m\u001b[97mSaved to: temp_images/RIL1211_19\u001b[0m\n"
     ]
    },
    {
     "name": "stdout",
     "output_type": "stream",
     "text": [
      "image: C9.json\n"
     ]
    },
    {
     "name": "stderr",
     "output_type": "stream",
     "text": [
      "2024-08-06 12:19:21,506 [\u001b[1m\u001b[97mINFO   \u001b[0m] \u001b[36mexport_json\u001b[0m:\u001b[36mmain\u001b[0m:\u001b[36m66\u001b[0m- \u001b[1m\u001b[97mSaved to: temp_images/C9\u001b[0m\n"
     ]
    },
    {
     "name": "stdout",
     "output_type": "stream",
     "text": [
      "image: 11.json\n"
     ]
    },
    {
     "name": "stderr",
     "output_type": "stream",
     "text": [
      "2024-08-06 12:19:23,354 [\u001b[1m\u001b[97mINFO   \u001b[0m] \u001b[36mexport_json\u001b[0m:\u001b[36mmain\u001b[0m:\u001b[36m66\u001b[0m- \u001b[1m\u001b[97mSaved to: temp_images/11\u001b[0m\n",
      "mkdir: cannot create directory ‘temp_images/RIL’: File exists\n"
     ]
    },
    {
     "name": "stdout",
     "output_type": "stream",
     "text": [
      "image: RIL 1216_12.json\n"
     ]
    },
    {
     "name": "stderr",
     "output_type": "stream",
     "text": [
      "usage: labelme_export_json [-h] [-o OUT] json_file\n",
      "labelme_export_json: error: unrecognized arguments: 1216_12.json 1216_12\n"
     ]
    },
    {
     "name": "stdout",
     "output_type": "stream",
     "text": [
      "image: D9.json\n"
     ]
    },
    {
     "name": "stderr",
     "output_type": "stream",
     "text": [
      "2024-08-06 12:19:25,498 [\u001b[1m\u001b[97mINFO   \u001b[0m] \u001b[36mexport_json\u001b[0m:\u001b[36mmain\u001b[0m:\u001b[36m66\u001b[0m- \u001b[1m\u001b[97mSaved to: temp_images/D9\u001b[0m\n"
     ]
    },
    {
     "name": "stdout",
     "output_type": "stream",
     "text": [
      "image: RIL1217_5.json\n"
     ]
    },
    {
     "name": "stderr",
     "output_type": "stream",
     "text": [
      "2024-08-06 12:19:27,534 [\u001b[1m\u001b[97mINFO   \u001b[0m] \u001b[36mexport_json\u001b[0m:\u001b[36mmain\u001b[0m:\u001b[36m66\u001b[0m- \u001b[1m\u001b[97mSaved to: temp_images/RIL1217_5\u001b[0m\n"
     ]
    },
    {
     "name": "stdout",
     "output_type": "stream",
     "text": [
      "image: F1.json\n"
     ]
    },
    {
     "name": "stderr",
     "output_type": "stream",
     "text": [
      "2024-08-06 12:19:29,367 [\u001b[1m\u001b[97mINFO   \u001b[0m] \u001b[36mexport_json\u001b[0m:\u001b[36mmain\u001b[0m:\u001b[36m66\u001b[0m- \u001b[1m\u001b[97mSaved to: temp_images/F1\u001b[0m\n"
     ]
    },
    {
     "name": "stdout",
     "output_type": "stream",
     "text": [
      "image: S7.json\n"
     ]
    },
    {
     "name": "stderr",
     "output_type": "stream",
     "text": [
      "2024-08-06 12:19:31,176 [\u001b[1m\u001b[97mINFO   \u001b[0m] \u001b[36mexport_json\u001b[0m:\u001b[36mmain\u001b[0m:\u001b[36m66\u001b[0m- \u001b[1m\u001b[97mSaved to: temp_images/S7\u001b[0m\n"
     ]
    },
    {
     "name": "stdout",
     "output_type": "stream",
     "text": [
      "image: B18.json\n"
     ]
    },
    {
     "name": "stderr",
     "output_type": "stream",
     "text": [
      "2024-08-06 12:19:32,371 [\u001b[1m\u001b[97mINFO   \u001b[0m] \u001b[36mexport_json\u001b[0m:\u001b[36mmain\u001b[0m:\u001b[36m66\u001b[0m- \u001b[1m\u001b[97mSaved to: temp_images/B18\u001b[0m\n"
     ]
    },
    {
     "name": "stdout",
     "output_type": "stream",
     "text": [
      "image: RIL1217_17.json\n"
     ]
    },
    {
     "name": "stderr",
     "output_type": "stream",
     "text": [
      "2024-08-06 12:19:34,400 [\u001b[1m\u001b[97mINFO   \u001b[0m] \u001b[36mexport_json\u001b[0m:\u001b[36mmain\u001b[0m:\u001b[36m66\u001b[0m- \u001b[1m\u001b[97mSaved to: temp_images/RIL1217_17\u001b[0m\n"
     ]
    },
    {
     "name": "stdout",
     "output_type": "stream",
     "text": [
      "image: A7.json\n"
     ]
    },
    {
     "name": "stderr",
     "output_type": "stream",
     "text": [
      "2024-08-06 12:19:35,618 [\u001b[1m\u001b[97mINFO   \u001b[0m] \u001b[36mexport_json\u001b[0m:\u001b[36mmain\u001b[0m:\u001b[36m66\u001b[0m- \u001b[1m\u001b[97mSaved to: temp_images/A7\u001b[0m\n"
     ]
    },
    {
     "name": "stdout",
     "output_type": "stream",
     "text": [
      "image: L9.json\n"
     ]
    },
    {
     "name": "stderr",
     "output_type": "stream",
     "text": [
      "2024-08-06 12:19:37,329 [\u001b[1m\u001b[97mINFO   \u001b[0m] \u001b[36mexport_json\u001b[0m:\u001b[36mmain\u001b[0m:\u001b[36m66\u001b[0m- \u001b[1m\u001b[97mSaved to: temp_images/L9\u001b[0m\n"
     ]
    },
    {
     "name": "stdout",
     "output_type": "stream",
     "text": [
      "image: S14.json\n"
     ]
    },
    {
     "name": "stderr",
     "output_type": "stream",
     "text": [
      "2024-08-06 12:19:39,178 [\u001b[1m\u001b[97mINFO   \u001b[0m] \u001b[36mexport_json\u001b[0m:\u001b[36mmain\u001b[0m:\u001b[36m66\u001b[0m- \u001b[1m\u001b[97mSaved to: temp_images/S14\u001b[0m\n"
     ]
    },
    {
     "name": "stdout",
     "output_type": "stream",
     "text": [
      "image: RIL1211_18.json\n"
     ]
    },
    {
     "name": "stderr",
     "output_type": "stream",
     "text": [
      "2024-08-06 12:19:41,471 [\u001b[1m\u001b[97mINFO   \u001b[0m] \u001b[36mexport_json\u001b[0m:\u001b[36mmain\u001b[0m:\u001b[36m66\u001b[0m- \u001b[1m\u001b[97mSaved to: temp_images/RIL1211_18\u001b[0m\n"
     ]
    },
    {
     "name": "stdout",
     "output_type": "stream",
     "text": [
      "image: F7.json\n"
     ]
    },
    {
     "name": "stderr",
     "output_type": "stream",
     "text": [
      "2024-08-06 12:19:43,222 [\u001b[1m\u001b[97mINFO   \u001b[0m] \u001b[36mexport_json\u001b[0m:\u001b[36mmain\u001b[0m:\u001b[36m66\u001b[0m- \u001b[1m\u001b[97mSaved to: temp_images/F7\u001b[0m\n"
     ]
    },
    {
     "name": "stdout",
     "output_type": "stream",
     "text": [
      "image: GP07-Germplasm300000.0V10000X0012.json\n"
     ]
    },
    {
     "name": "stderr",
     "output_type": "stream",
     "text": [
      "2024-08-06 12:20:01,883 [\u001b[1m\u001b[97mINFO   \u001b[0m] \u001b[36mexport_json\u001b[0m:\u001b[36mmain\u001b[0m:\u001b[36m66\u001b[0m- \u001b[1m\u001b[97mSaved to: temp_images/GP07-Germplasm300000.0V10000X0012\u001b[0m\n"
     ]
    },
    {
     "name": "stdout",
     "output_type": "stream",
     "text": [
      "image: LowSpeedFraction_4.json\n"
     ]
    },
    {
     "name": "stderr",
     "output_type": "stream",
     "text": [
      "Traceback (most recent call last):\n",
      "  File \"/home/ankit/Desktop/ml/Tensorflow_ENV/tfenv/bin/labelme_export_json\", line 8, in <module>\n",
      "    sys.exit(main())\n",
      "  File \"/home/ankit/Desktop/ml/Tensorflow_ENV/tfenv/lib/python3.9/site-packages/labelme/cli/export_json.py\", line 48, in main\n",
      "    lbl, _ = utils.shapes_to_label(img.shape, data[\"shapes\"], label_name_to_value)\n",
      "  File \"/home/ankit/Desktop/ml/Tensorflow_ENV/tfenv/lib/python3.9/site-packages/labelme/utils/shape.py\", line 71, in shapes_to_label\n",
      "    mask = shape_to_mask(img_shape[:2], points, shape_type)\n",
      "  File \"/home/ankit/Desktop/ml/Tensorflow_ENV/tfenv/lib/python3.9/site-packages/labelme/utils/shape.py\", line 45, in shape_to_mask\n",
      "    assert len(xy) > 2, \"Polygon must have points more than 2\"\n",
      "AssertionError: Polygon must have points more than 2\n",
      "mkdir: cannot create directory ‘temp_images/RIL’: File exists\n"
     ]
    },
    {
     "name": "stdout",
     "output_type": "stream",
     "text": [
      "image: RIL 601_6.json\n"
     ]
    },
    {
     "name": "stderr",
     "output_type": "stream",
     "text": [
      "usage: labelme_export_json [-h] [-o OUT] json_file\n",
      "labelme_export_json: error: unrecognized arguments: 601_6.json 601_6\n"
     ]
    },
    {
     "name": "stdout",
     "output_type": "stream",
     "text": [
      "image: D3.json\n"
     ]
    },
    {
     "name": "stderr",
     "output_type": "stream",
     "text": [
      "2024-08-06 12:20:05,046 [\u001b[1m\u001b[97mINFO   \u001b[0m] \u001b[36mexport_json\u001b[0m:\u001b[36mmain\u001b[0m:\u001b[36m66\u001b[0m- \u001b[1m\u001b[97mSaved to: temp_images/D3\u001b[0m\n"
     ]
    },
    {
     "name": "stdout",
     "output_type": "stream",
     "text": [
      "image: Z5.json\n"
     ]
    },
    {
     "name": "stderr",
     "output_type": "stream",
     "text": [
      "2024-08-06 12:20:06,942 [\u001b[1m\u001b[97mINFO   \u001b[0m] \u001b[36mexport_json\u001b[0m:\u001b[36mmain\u001b[0m:\u001b[36m66\u001b[0m- \u001b[1m\u001b[97mSaved to: temp_images/Z5\u001b[0m\n"
     ]
    },
    {
     "name": "stdout",
     "output_type": "stream",
     "text": [
      "image: B5.json\n"
     ]
    },
    {
     "name": "stderr",
     "output_type": "stream",
     "text": [
      "2024-08-06 12:20:08,120 [\u001b[1m\u001b[97mINFO   \u001b[0m] \u001b[36mexport_json\u001b[0m:\u001b[36mmain\u001b[0m:\u001b[36m66\u001b[0m- \u001b[1m\u001b[97mSaved to: temp_images/B5\u001b[0m\n"
     ]
    },
    {
     "name": "stdout",
     "output_type": "stream",
     "text": [
      "image: Pond2_5.json\n"
     ]
    },
    {
     "name": "stderr",
     "output_type": "stream",
     "text": [
      "2024-08-06 12:20:09,349 [\u001b[1m\u001b[97mINFO   \u001b[0m] \u001b[36mexport_json\u001b[0m:\u001b[36mmain\u001b[0m:\u001b[36m66\u001b[0m- \u001b[1m\u001b[97mSaved to: temp_images/Pond2_5\u001b[0m\n"
     ]
    },
    {
     "name": "stdout",
     "output_type": "stream",
     "text": [
      "image: RIL1211_11.json\n"
     ]
    },
    {
     "name": "stderr",
     "output_type": "stream",
     "text": [
      "2024-08-06 12:20:11,346 [\u001b[1m\u001b[97mINFO   \u001b[0m] \u001b[36mexport_json\u001b[0m:\u001b[36mmain\u001b[0m:\u001b[36m66\u001b[0m- \u001b[1m\u001b[97mSaved to: temp_images/RIL1211_11\u001b[0m\n"
     ]
    },
    {
     "name": "stdout",
     "output_type": "stream",
     "text": [
      "image: D6.json\n"
     ]
    },
    {
     "name": "stderr",
     "output_type": "stream",
     "text": [
      "2024-08-06 12:20:12,551 [\u001b[1m\u001b[97mINFO   \u001b[0m] \u001b[36mexport_json\u001b[0m:\u001b[36mmain\u001b[0m:\u001b[36m66\u001b[0m- \u001b[1m\u001b[97mSaved to: temp_images/D6\u001b[0m\n"
     ]
    },
    {
     "name": "stdout",
     "output_type": "stream",
     "text": [
      "image: 8.json\n"
     ]
    },
    {
     "name": "stderr",
     "output_type": "stream",
     "text": [
      "2024-08-06 12:20:14,493 [\u001b[1m\u001b[97mINFO   \u001b[0m] \u001b[36mexport_json\u001b[0m:\u001b[36mmain\u001b[0m:\u001b[36m66\u001b[0m- \u001b[1m\u001b[97mSaved to: temp_images/8\u001b[0m\n"
     ]
    },
    {
     "name": "stdout",
     "output_type": "stream",
     "text": [
      "image: F12.json\n"
     ]
    },
    {
     "name": "stderr",
     "output_type": "stream",
     "text": [
      "2024-08-06 12:20:16,238 [\u001b[1m\u001b[97mINFO   \u001b[0m] \u001b[36mexport_json\u001b[0m:\u001b[36mmain\u001b[0m:\u001b[36m66\u001b[0m- \u001b[1m\u001b[97mSaved to: temp_images/F12\u001b[0m\n"
     ]
    },
    {
     "name": "stdout",
     "output_type": "stream",
     "text": [
      "image: POND_006.json\n"
     ]
    },
    {
     "name": "stderr",
     "output_type": "stream",
     "text": [
      "2024-08-06 12:20:18,265 [\u001b[1m\u001b[97mINFO   \u001b[0m] \u001b[36mexport_json\u001b[0m:\u001b[36mmain\u001b[0m:\u001b[36m66\u001b[0m- \u001b[1m\u001b[97mSaved to: temp_images/POND_006\u001b[0m\n"
     ]
    },
    {
     "name": "stdout",
     "output_type": "stream",
     "text": [
      "image: E15.json\n"
     ]
    },
    {
     "name": "stderr",
     "output_type": "stream",
     "text": [
      "2024-08-06 12:20:19,445 [\u001b[1m\u001b[97mINFO   \u001b[0m] \u001b[36mexport_json\u001b[0m:\u001b[36mmain\u001b[0m:\u001b[36m66\u001b[0m- \u001b[1m\u001b[97mSaved to: temp_images/E15\u001b[0m\n"
     ]
    },
    {
     "name": "stdout",
     "output_type": "stream",
     "text": [
      "image: C10.json\n"
     ]
    },
    {
     "name": "stderr",
     "output_type": "stream",
     "text": [
      "2024-08-06 12:20:21,114 [\u001b[1m\u001b[97mINFO   \u001b[0m] \u001b[36mexport_json\u001b[0m:\u001b[36mmain\u001b[0m:\u001b[36m66\u001b[0m- \u001b[1m\u001b[97mSaved to: temp_images/C10\u001b[0m\n"
     ]
    },
    {
     "name": "stdout",
     "output_type": "stream",
     "text": [
      "image: F19.json\n"
     ]
    },
    {
     "name": "stderr",
     "output_type": "stream",
     "text": [
      "2024-08-06 12:20:22,950 [\u001b[1m\u001b[97mINFO   \u001b[0m] \u001b[36mexport_json\u001b[0m:\u001b[36mmain\u001b[0m:\u001b[36m66\u001b[0m- \u001b[1m\u001b[97mSaved to: temp_images/F19\u001b[0m\n"
     ]
    },
    {
     "name": "stdout",
     "output_type": "stream",
     "text": [
      "image: A2.json\n"
     ]
    },
    {
     "name": "stderr",
     "output_type": "stream",
     "text": [
      "2024-08-06 12:20:24,122 [\u001b[1m\u001b[97mINFO   \u001b[0m] \u001b[36mexport_json\u001b[0m:\u001b[36mmain\u001b[0m:\u001b[36m66\u001b[0m- \u001b[1m\u001b[97mSaved to: temp_images/A2\u001b[0m\n"
     ]
    },
    {
     "name": "stdout",
     "output_type": "stream",
     "text": [
      "image: A16.json\n"
     ]
    },
    {
     "name": "stderr",
     "output_type": "stream",
     "text": [
      "2024-08-06 12:20:25,316 [\u001b[1m\u001b[97mINFO   \u001b[0m] \u001b[36mexport_json\u001b[0m:\u001b[36mmain\u001b[0m:\u001b[36m66\u001b[0m- \u001b[1m\u001b[97mSaved to: temp_images/A16\u001b[0m\n"
     ]
    },
    {
     "name": "stdout",
     "output_type": "stream",
     "text": [
      "image: Pond2_18.json\n"
     ]
    },
    {
     "name": "stderr",
     "output_type": "stream",
     "text": [
      "2024-08-06 12:20:26,506 [\u001b[1m\u001b[97mINFO   \u001b[0m] \u001b[36mexport_json\u001b[0m:\u001b[36mmain\u001b[0m:\u001b[36m66\u001b[0m- \u001b[1m\u001b[97mSaved to: temp_images/Pond2_18\u001b[0m\n"
     ]
    },
    {
     "name": "stdout",
     "output_type": "stream",
     "text": [
      "image: Z11.json\n"
     ]
    },
    {
     "name": "stderr",
     "output_type": "stream",
     "text": [
      "2024-08-06 12:20:28,287 [\u001b[1m\u001b[97mINFO   \u001b[0m] \u001b[36mexport_json\u001b[0m:\u001b[36mmain\u001b[0m:\u001b[36m66\u001b[0m- \u001b[1m\u001b[97mSaved to: temp_images/Z11\u001b[0m\n"
     ]
    },
    {
     "name": "stdout",
     "output_type": "stream",
     "text": [
      "image: Pond2_9.json\n"
     ]
    },
    {
     "name": "stderr",
     "output_type": "stream",
     "text": [
      "2024-08-06 12:20:29,499 [\u001b[1m\u001b[97mINFO   \u001b[0m] \u001b[36mexport_json\u001b[0m:\u001b[36mmain\u001b[0m:\u001b[36m66\u001b[0m- \u001b[1m\u001b[97mSaved to: temp_images/Pond2_9\u001b[0m\n"
     ]
    },
    {
     "name": "stdout",
     "output_type": "stream",
     "text": [
      "image: GP07-Pond0009.json\n"
     ]
    },
    {
     "name": "stderr",
     "output_type": "stream",
     "text": [
      "2024-08-06 12:20:33,841 [\u001b[1m\u001b[97mINFO   \u001b[0m] \u001b[36mexport_json\u001b[0m:\u001b[36mmain\u001b[0m:\u001b[36m66\u001b[0m- \u001b[1m\u001b[97mSaved to: temp_images/GP07-Pond0009\u001b[0m\n"
     ]
    },
    {
     "name": "stdout",
     "output_type": "stream",
     "text": [
      "image: L4.json\n"
     ]
    },
    {
     "name": "stderr",
     "output_type": "stream",
     "text": [
      "2024-08-06 12:20:35,706 [\u001b[1m\u001b[97mINFO   \u001b[0m] \u001b[36mexport_json\u001b[0m:\u001b[36mmain\u001b[0m:\u001b[36m66\u001b[0m- \u001b[1m\u001b[97mSaved to: temp_images/L4\u001b[0m\n"
     ]
    },
    {
     "name": "stdout",
     "output_type": "stream",
     "text": [
      "image: Gagva_PondFix_20.json\n"
     ]
    },
    {
     "name": "stderr",
     "output_type": "stream",
     "text": [
      "2024-08-06 12:20:36,885 [\u001b[1m\u001b[97mINFO   \u001b[0m] \u001b[36mexport_json\u001b[0m:\u001b[36mmain\u001b[0m:\u001b[36m66\u001b[0m- \u001b[1m\u001b[97mSaved to: temp_images/Gagva_PondFix_20\u001b[0m\n"
     ]
    },
    {
     "name": "stdout",
     "output_type": "stream",
     "text": [
      "image: RIL1217_12.json\n"
     ]
    },
    {
     "name": "stderr",
     "output_type": "stream",
     "text": [
      "2024-08-06 12:20:39,075 [\u001b[1m\u001b[97mINFO   \u001b[0m] \u001b[36mexport_json\u001b[0m:\u001b[36mmain\u001b[0m:\u001b[36m66\u001b[0m- \u001b[1m\u001b[97mSaved to: temp_images/RIL1217_12\u001b[0m\n"
     ]
    },
    {
     "name": "stdout",
     "output_type": "stream",
     "text": [
      "image: RIL1217_4.json\n"
     ]
    },
    {
     "name": "stderr",
     "output_type": "stream",
     "text": [
      "2024-08-06 12:20:41,760 [\u001b[1m\u001b[97mINFO   \u001b[0m] \u001b[36mexport_json\u001b[0m:\u001b[36mmain\u001b[0m:\u001b[36m66\u001b[0m- \u001b[1m\u001b[97mSaved to: temp_images/RIL1217_4\u001b[0m\n"
     ]
    },
    {
     "name": "stdout",
     "output_type": "stream",
     "text": [
      "image: PondSTEM3.json\n"
     ]
    },
    {
     "name": "stderr",
     "output_type": "stream",
     "text": [
      "2024-08-06 12:20:43,063 [\u001b[1m\u001b[97mINFO   \u001b[0m] \u001b[36mexport_json\u001b[0m:\u001b[36mmain\u001b[0m:\u001b[36m66\u001b[0m- \u001b[1m\u001b[97mSaved to: temp_images/PondSTEM3\u001b[0m\n"
     ]
    },
    {
     "name": "stdout",
     "output_type": "stream",
     "text": [
      "image: PondFix_14i.json\n"
     ]
    },
    {
     "name": "stderr",
     "output_type": "stream",
     "text": [
      "2024-08-06 12:20:44,384 [\u001b[1m\u001b[97mINFO   \u001b[0m] \u001b[36mexport_json\u001b[0m:\u001b[36mmain\u001b[0m:\u001b[36m66\u001b[0m- \u001b[1m\u001b[97mSaved to: temp_images/PondFix_14i\u001b[0m\n"
     ]
    },
    {
     "name": "stdout",
     "output_type": "stream",
     "text": [
      "image: A1.json\n"
     ]
    },
    {
     "name": "stderr",
     "output_type": "stream",
     "text": [
      "2024-08-06 12:20:45,578 [\u001b[1m\u001b[97mINFO   \u001b[0m] \u001b[36mexport_json\u001b[0m:\u001b[36mmain\u001b[0m:\u001b[36m66\u001b[0m- \u001b[1m\u001b[97mSaved to: temp_images/A1\u001b[0m\n"
     ]
    },
    {
     "name": "stdout",
     "output_type": "stream",
     "text": [
      "image: RIL1211_4.json\n"
     ]
    },
    {
     "name": "stderr",
     "output_type": "stream",
     "text": [
      "2024-08-06 12:20:47,505 [\u001b[1m\u001b[97mINFO   \u001b[0m] \u001b[36mexport_json\u001b[0m:\u001b[36mmain\u001b[0m:\u001b[36m66\u001b[0m- \u001b[1m\u001b[97mSaved to: temp_images/RIL1211_4\u001b[0m\n",
      "mkdir: cannot create directory ‘temp_images/RIL’: File exists\n"
     ]
    },
    {
     "name": "stdout",
     "output_type": "stream",
     "text": [
      "image: RIL 601_17.json\n"
     ]
    },
    {
     "name": "stderr",
     "output_type": "stream",
     "text": [
      "usage: labelme_export_json [-h] [-o OUT] json_file\n",
      "labelme_export_json: error: unrecognized arguments: 601_17.json 601_17\n",
      "mkdir: cannot create directory ‘temp_images/RIL’: File exists\n"
     ]
    },
    {
     "name": "stdout",
     "output_type": "stream",
     "text": [
      "image: RIL 1216_2.json\n"
     ]
    },
    {
     "name": "stderr",
     "output_type": "stream",
     "text": [
      "usage: labelme_export_json [-h] [-o OUT] json_file\n",
      "labelme_export_json: error: unrecognized arguments: 1216_2.json 1216_2\n"
     ]
    },
    {
     "name": "stdout",
     "output_type": "stream",
     "text": [
      "image: A19.json\n"
     ]
    },
    {
     "name": "stderr",
     "output_type": "stream",
     "text": [
      "2024-08-06 12:20:50,602 [\u001b[1m\u001b[97mINFO   \u001b[0m] \u001b[36mexport_json\u001b[0m:\u001b[36mmain\u001b[0m:\u001b[36m66\u001b[0m- \u001b[1m\u001b[97mSaved to: temp_images/A19\u001b[0m\n"
     ]
    },
    {
     "name": "stdout",
     "output_type": "stream",
     "text": [
      "image: GP07-Germplasm300000.0V10000X0002.json\n"
     ]
    },
    {
     "name": "stderr",
     "output_type": "stream",
     "text": [
      "2024-08-06 12:21:09,256 [\u001b[1m\u001b[97mINFO   \u001b[0m] \u001b[36mexport_json\u001b[0m:\u001b[36mmain\u001b[0m:\u001b[36m66\u001b[0m- \u001b[1m\u001b[97mSaved to: temp_images/GP07-Germplasm300000.0V10000X0002\u001b[0m\n"
     ]
    },
    {
     "name": "stdout",
     "output_type": "stream",
     "text": [
      "image: RIL1217_16.json\n"
     ]
    },
    {
     "name": "stderr",
     "output_type": "stream",
     "text": [
      "2024-08-06 12:21:11,394 [\u001b[1m\u001b[97mINFO   \u001b[0m] \u001b[36mexport_json\u001b[0m:\u001b[36mmain\u001b[0m:\u001b[36m66\u001b[0m- \u001b[1m\u001b[97mSaved to: temp_images/RIL1217_16\u001b[0m\n"
     ]
    },
    {
     "name": "stdout",
     "output_type": "stream",
     "text": [
      "image: Gagva_PondFix_1.json\n"
     ]
    },
    {
     "name": "stderr",
     "output_type": "stream",
     "text": [
      "2024-08-06 12:21:12,660 [\u001b[1m\u001b[97mINFO   \u001b[0m] \u001b[36mexport_json\u001b[0m:\u001b[36mmain\u001b[0m:\u001b[36m66\u001b[0m- \u001b[1m\u001b[97mSaved to: temp_images/Gagva_PondFix_1\u001b[0m\n"
     ]
    },
    {
     "name": "stdout",
     "output_type": "stream",
     "text": [
      "image: GP07-Pond0023.json\n"
     ]
    },
    {
     "name": "stderr",
     "output_type": "stream",
     "text": [
      "2024-08-06 12:21:17,705 [\u001b[1m\u001b[97mINFO   \u001b[0m] \u001b[36mexport_json\u001b[0m:\u001b[36mmain\u001b[0m:\u001b[36m66\u001b[0m- \u001b[1m\u001b[97mSaved to: temp_images/GP07-Pond0023\u001b[0m\n"
     ]
    },
    {
     "name": "stdout",
     "output_type": "stream",
     "text": [
      "image: V9.json\n"
     ]
    },
    {
     "name": "stderr",
     "output_type": "stream",
     "text": [
      "2024-08-06 12:21:19,540 [\u001b[1m\u001b[97mINFO   \u001b[0m] \u001b[36mexport_json\u001b[0m:\u001b[36mmain\u001b[0m:\u001b[36m66\u001b[0m- \u001b[1m\u001b[97mSaved to: temp_images/V9\u001b[0m\n"
     ]
    },
    {
     "name": "stdout",
     "output_type": "stream",
     "text": [
      "image: RIL1211_16.json\n"
     ]
    },
    {
     "name": "stderr",
     "output_type": "stream",
     "text": [
      "2024-08-06 12:21:21,504 [\u001b[1m\u001b[97mINFO   \u001b[0m] \u001b[36mexport_json\u001b[0m:\u001b[36mmain\u001b[0m:\u001b[36m66\u001b[0m- \u001b[1m\u001b[97mSaved to: temp_images/RIL1211_16\u001b[0m\n"
     ]
    },
    {
     "name": "stdout",
     "output_type": "stream",
     "text": [
      "image: D10.json\n"
     ]
    },
    {
     "name": "stderr",
     "output_type": "stream",
     "text": [
      "2024-08-06 12:21:22,683 [\u001b[1m\u001b[97mINFO   \u001b[0m] \u001b[36mexport_json\u001b[0m:\u001b[36mmain\u001b[0m:\u001b[36m66\u001b[0m- \u001b[1m\u001b[97mSaved to: temp_images/D10\u001b[0m\n"
     ]
    },
    {
     "name": "stdout",
     "output_type": "stream",
     "text": [
      "image: Z6.json\n"
     ]
    },
    {
     "name": "stderr",
     "output_type": "stream",
     "text": [
      "2024-08-06 12:21:24,579 [\u001b[1m\u001b[97mINFO   \u001b[0m] \u001b[36mexport_json\u001b[0m:\u001b[36mmain\u001b[0m:\u001b[36m66\u001b[0m- \u001b[1m\u001b[97mSaved to: temp_images/Z6\u001b[0m\n"
     ]
    },
    {
     "name": "stdout",
     "output_type": "stream",
     "text": [
      "image: E14.json\n"
     ]
    },
    {
     "name": "stderr",
     "output_type": "stream",
     "text": [
      "2024-08-06 12:21:25,758 [\u001b[1m\u001b[97mINFO   \u001b[0m] \u001b[36mexport_json\u001b[0m:\u001b[36mmain\u001b[0m:\u001b[36m66\u001b[0m- \u001b[1m\u001b[97mSaved to: temp_images/E14\u001b[0m\n"
     ]
    },
    {
     "name": "stdout",
     "output_type": "stream",
     "text": [
      "image: 13.json\n"
     ]
    },
    {
     "name": "stderr",
     "output_type": "stream",
     "text": [
      "2024-08-06 12:21:27,664 [\u001b[1m\u001b[97mINFO   \u001b[0m] \u001b[36mexport_json\u001b[0m:\u001b[36mmain\u001b[0m:\u001b[36m66\u001b[0m- \u001b[1m\u001b[97mSaved to: temp_images/13\u001b[0m\n",
      "mkdir: cannot create directory ‘temp_images/RIL’: File exists\n"
     ]
    },
    {
     "name": "stdout",
     "output_type": "stream",
     "text": [
      "image: RIL 1216_6.json\n"
     ]
    },
    {
     "name": "stderr",
     "output_type": "stream",
     "text": [
      "usage: labelme_export_json [-h] [-o OUT] json_file\n",
      "labelme_export_json: error: unrecognized arguments: 1216_6.json 1216_6\n"
     ]
    },
    {
     "name": "stdout",
     "output_type": "stream",
     "text": [
      "image: 10.json\n"
     ]
    },
    {
     "name": "stderr",
     "output_type": "stream",
     "text": [
      "2024-08-06 12:21:30,498 [\u001b[1m\u001b[97mINFO   \u001b[0m] \u001b[36mexport_json\u001b[0m:\u001b[36mmain\u001b[0m:\u001b[36m66\u001b[0m- \u001b[1m\u001b[97mSaved to: temp_images/10\u001b[0m\n"
     ]
    },
    {
     "name": "stdout",
     "output_type": "stream",
     "text": [
      "image: POND_005.json\n"
     ]
    },
    {
     "name": "stderr",
     "output_type": "stream",
     "text": [
      "2024-08-06 12:21:32,510 [\u001b[1m\u001b[97mINFO   \u001b[0m] \u001b[36mexport_json\u001b[0m:\u001b[36mmain\u001b[0m:\u001b[36m66\u001b[0m- \u001b[1m\u001b[97mSaved to: temp_images/POND_005\u001b[0m\n"
     ]
    },
    {
     "name": "stdout",
     "output_type": "stream",
     "text": [
      "image: RIL1217_6.json\n"
     ]
    },
    {
     "name": "stderr",
     "output_type": "stream",
     "text": [
      "2024-08-06 12:21:34,522 [\u001b[1m\u001b[97mINFO   \u001b[0m] \u001b[36mexport_json\u001b[0m:\u001b[36mmain\u001b[0m:\u001b[36m66\u001b[0m- \u001b[1m\u001b[97mSaved to: temp_images/RIL1217_6\u001b[0m\n"
     ]
    },
    {
     "name": "stdout",
     "output_type": "stream",
     "text": [
      "image: B15.json\n"
     ]
    },
    {
     "name": "stderr",
     "output_type": "stream",
     "text": [
      "2024-08-06 12:21:35,689 [\u001b[1m\u001b[97mINFO   \u001b[0m] \u001b[36mexport_json\u001b[0m:\u001b[36mmain\u001b[0m:\u001b[36m66\u001b[0m- \u001b[1m\u001b[97mSaved to: temp_images/B15\u001b[0m\n"
     ]
    },
    {
     "name": "stdout",
     "output_type": "stream",
     "text": [
      "image: 12.json\n"
     ]
    },
    {
     "name": "stderr",
     "output_type": "stream",
     "text": [
      "2024-08-06 12:21:37,586 [\u001b[1m\u001b[97mINFO   \u001b[0m] \u001b[36mexport_json\u001b[0m:\u001b[36mmain\u001b[0m:\u001b[36m66\u001b[0m- \u001b[1m\u001b[97mSaved to: temp_images/12\u001b[0m\n",
      "mkdir: cannot create directory ‘temp_images/RIL’: File exists\n"
     ]
    },
    {
     "name": "stdout",
     "output_type": "stream",
     "text": [
      "image: RIL 1216_3.json\n"
     ]
    },
    {
     "name": "stderr",
     "output_type": "stream",
     "text": [
      "usage: labelme_export_json [-h] [-o OUT] json_file\n",
      "labelme_export_json: error: unrecognized arguments: 1216_3.json 1216_3\n"
     ]
    },
    {
     "name": "stdout",
     "output_type": "stream",
     "text": [
      "image: L6.json\n"
     ]
    },
    {
     "name": "stderr",
     "output_type": "stream",
     "text": [
      "2024-08-06 12:21:40,319 [\u001b[1m\u001b[97mINFO   \u001b[0m] \u001b[36mexport_json\u001b[0m:\u001b[36mmain\u001b[0m:\u001b[36m66\u001b[0m- \u001b[1m\u001b[97mSaved to: temp_images/L6\u001b[0m\n"
     ]
    },
    {
     "name": "stdout",
     "output_type": "stream",
     "text": [
      "image: GP07-Germplasm0016.json\n"
     ]
    },
    {
     "name": "stderr",
     "output_type": "stream",
     "text": [
      "2024-08-06 12:21:58,468 [\u001b[1m\u001b[97mINFO   \u001b[0m] \u001b[36mexport_json\u001b[0m:\u001b[36mmain\u001b[0m:\u001b[36m66\u001b[0m- \u001b[1m\u001b[97mSaved to: temp_images/GP07-Germplasm0016\u001b[0m\n"
     ]
    },
    {
     "name": "stdout",
     "output_type": "stream",
     "text": [
      "image: T2.json\n"
     ]
    },
    {
     "name": "stderr",
     "output_type": "stream",
     "text": [
      "2024-08-06 12:22:00,318 [\u001b[1m\u001b[97mINFO   \u001b[0m] \u001b[36mexport_json\u001b[0m:\u001b[36mmain\u001b[0m:\u001b[36m66\u001b[0m- \u001b[1m\u001b[97mSaved to: temp_images/T2\u001b[0m\n"
     ]
    },
    {
     "name": "stdout",
     "output_type": "stream",
     "text": [
      "image: RIL1211_17.json\n"
     ]
    },
    {
     "name": "stderr",
     "output_type": "stream",
     "text": [
      "2024-08-06 12:22:02,230 [\u001b[1m\u001b[97mINFO   \u001b[0m] \u001b[36mexport_json\u001b[0m:\u001b[36mmain\u001b[0m:\u001b[36m66\u001b[0m- \u001b[1m\u001b[97mSaved to: temp_images/RIL1211_17\u001b[0m\n",
      "mkdir: cannot create directory ‘temp_images/RIL’: File exists\n"
     ]
    },
    {
     "name": "stdout",
     "output_type": "stream",
     "text": [
      "image: RIL 601_4.json\n"
     ]
    },
    {
     "name": "stderr",
     "output_type": "stream",
     "text": [
      "usage: labelme_export_json [-h] [-o OUT] json_file\n",
      "labelme_export_json: error: unrecognized arguments: 601_4.json 601_4\n"
     ]
    },
    {
     "name": "stdout",
     "output_type": "stream",
     "text": [
      "image: PondFix_18i.json\n"
     ]
    },
    {
     "name": "stderr",
     "output_type": "stream",
     "text": [
      "2024-08-06 12:22:04,390 [\u001b[1m\u001b[97mINFO   \u001b[0m] \u001b[36mexport_json\u001b[0m:\u001b[36mmain\u001b[0m:\u001b[36m66\u001b[0m- \u001b[1m\u001b[97mSaved to: temp_images/PondFix_18i\u001b[0m\n"
     ]
    },
    {
     "name": "stdout",
     "output_type": "stream",
     "text": [
      "image: RIL1211_5.json\n"
     ]
    },
    {
     "name": "stderr",
     "output_type": "stream",
     "text": [
      "2024-08-06 12:22:06,433 [\u001b[1m\u001b[97mINFO   \u001b[0m] \u001b[36mexport_json\u001b[0m:\u001b[36mmain\u001b[0m:\u001b[36m66\u001b[0m- \u001b[1m\u001b[97mSaved to: temp_images/RIL1211_5\u001b[0m\n"
     ]
    },
    {
     "name": "stdout",
     "output_type": "stream",
     "text": [
      "image: A9.json\n"
     ]
    },
    {
     "name": "stderr",
     "output_type": "stream",
     "text": [
      "2024-08-06 12:22:07,614 [\u001b[1m\u001b[97mINFO   \u001b[0m] \u001b[36mexport_json\u001b[0m:\u001b[36mmain\u001b[0m:\u001b[36m66\u001b[0m- \u001b[1m\u001b[97mSaved to: temp_images/A9\u001b[0m\n"
     ]
    },
    {
     "name": "stdout",
     "output_type": "stream",
     "text": [
      "image: GP07-Germplasm300000.0V10000X0006.json\n"
     ]
    },
    {
     "name": "stderr",
     "output_type": "stream",
     "text": [
      "2024-08-06 12:22:27,315 [\u001b[1m\u001b[97mINFO   \u001b[0m] \u001b[36mexport_json\u001b[0m:\u001b[36mmain\u001b[0m:\u001b[36m66\u001b[0m- \u001b[1m\u001b[97mSaved to: temp_images/GP07-Germplasm300000.0V10000X0006\u001b[0m\n"
     ]
    },
    {
     "name": "stdout",
     "output_type": "stream",
     "text": [
      "image: 20.json\n"
     ]
    },
    {
     "name": "stderr",
     "output_type": "stream",
     "text": [
      "2024-08-06 12:22:29,018 [\u001b[1m\u001b[97mINFO   \u001b[0m] \u001b[36mexport_json\u001b[0m:\u001b[36mmain\u001b[0m:\u001b[36m66\u001b[0m- \u001b[1m\u001b[97mSaved to: temp_images/20\u001b[0m\n"
     ]
    },
    {
     "name": "stdout",
     "output_type": "stream",
     "text": [
      "image: D15.json\n"
     ]
    },
    {
     "name": "stderr",
     "output_type": "stream",
     "text": [
      "2024-08-06 12:22:30,227 [\u001b[1m\u001b[97mINFO   \u001b[0m] \u001b[36mexport_json\u001b[0m:\u001b[36mmain\u001b[0m:\u001b[36m66\u001b[0m- \u001b[1m\u001b[97mSaved to: temp_images/D15\u001b[0m\n"
     ]
    },
    {
     "name": "stdout",
     "output_type": "stream",
     "text": [
      "image: 1.json\n"
     ]
    },
    {
     "name": "stderr",
     "output_type": "stream",
     "text": [
      "2024-08-06 12:22:32,117 [\u001b[1m\u001b[97mINFO   \u001b[0m] \u001b[36mexport_json\u001b[0m:\u001b[36mmain\u001b[0m:\u001b[36m66\u001b[0m- \u001b[1m\u001b[97mSaved to: temp_images/1\u001b[0m\n"
     ]
    },
    {
     "name": "stdout",
     "output_type": "stream",
     "text": [
      "image: RIL1217_11.json\n"
     ]
    },
    {
     "name": "stderr",
     "output_type": "stream",
     "text": [
      "2024-08-06 12:22:34,158 [\u001b[1m\u001b[97mINFO   \u001b[0m] \u001b[36mexport_json\u001b[0m:\u001b[36mmain\u001b[0m:\u001b[36m66\u001b[0m- \u001b[1m\u001b[97mSaved to: temp_images/RIL1217_11\u001b[0m\n"
     ]
    },
    {
     "name": "stdout",
     "output_type": "stream",
     "text": [
      "image: L5.json\n"
     ]
    },
    {
     "name": "stderr",
     "output_type": "stream",
     "text": [
      "2024-08-06 12:22:35,785 [\u001b[1m\u001b[97mINFO   \u001b[0m] \u001b[36mexport_json\u001b[0m:\u001b[36mmain\u001b[0m:\u001b[36m66\u001b[0m- \u001b[1m\u001b[97mSaved to: temp_images/L5\u001b[0m\n",
      "mkdir: cannot create directory ‘temp_images/RIL’: File exists\n"
     ]
    },
    {
     "name": "stdout",
     "output_type": "stream",
     "text": [
      "image: RIL 601_15.json\n"
     ]
    },
    {
     "name": "stderr",
     "output_type": "stream",
     "text": [
      "usage: labelme_export_json [-h] [-o OUT] json_file\n",
      "labelme_export_json: error: unrecognized arguments: 601_15.json 601_15\n"
     ]
    },
    {
     "name": "stdout",
     "output_type": "stream",
     "text": [
      "image: L3.json\n"
     ]
    },
    {
     "name": "stderr",
     "output_type": "stream",
     "text": [
      "2024-08-06 12:22:38,492 [\u001b[1m\u001b[97mINFO   \u001b[0m] \u001b[36mexport_json\u001b[0m:\u001b[36mmain\u001b[0m:\u001b[36m66\u001b[0m- \u001b[1m\u001b[97mSaved to: temp_images/L3\u001b[0m\n",
      "mkdir: cannot create directory ‘temp_images/RIL’: File exists\n"
     ]
    },
    {
     "name": "stdout",
     "output_type": "stream",
     "text": [
      "image: RIL 601_5.json\n"
     ]
    },
    {
     "name": "stderr",
     "output_type": "stream",
     "text": [
      "usage: labelme_export_json [-h] [-o OUT] json_file\n",
      "labelme_export_json: error: unrecognized arguments: 601_5.json 601_5\n"
     ]
    },
    {
     "name": "stdout",
     "output_type": "stream",
     "text": [
      "image: RIL1211_14.json\n"
     ]
    },
    {
     "name": "stderr",
     "output_type": "stream",
     "text": [
      "2024-08-06 12:22:41,474 [\u001b[1m\u001b[97mINFO   \u001b[0m] \u001b[36mexport_json\u001b[0m:\u001b[36mmain\u001b[0m:\u001b[36m66\u001b[0m- \u001b[1m\u001b[97mSaved to: temp_images/RIL1211_14\u001b[0m\n"
     ]
    },
    {
     "name": "stdout",
     "output_type": "stream",
     "text": [
      "image: GP07-Pond0036.json\n"
     ]
    },
    {
     "name": "stderr",
     "output_type": "stream",
     "text": [
      "2024-08-06 12:22:46,543 [\u001b[1m\u001b[97mINFO   \u001b[0m] \u001b[36mexport_json\u001b[0m:\u001b[36mmain\u001b[0m:\u001b[36m66\u001b[0m- \u001b[1m\u001b[97mSaved to: temp_images/GP07-Pond0036\u001b[0m\n",
      "mkdir: cannot create directory ‘temp_images/RIL’: File exists\n"
     ]
    },
    {
     "name": "stdout",
     "output_type": "stream",
     "text": [
      "image: RIL 601_13.json\n"
     ]
    },
    {
     "name": "stderr",
     "output_type": "stream",
     "text": [
      "usage: labelme_export_json [-h] [-o OUT] json_file\n",
      "labelme_export_json: error: unrecognized arguments: 601_13.json 601_13\n"
     ]
    },
    {
     "name": "stdout",
     "output_type": "stream",
     "text": [
      "image: S3.json\n"
     ]
    },
    {
     "name": "stderr",
     "output_type": "stream",
     "text": [
      "2024-08-06 12:22:49,247 [\u001b[1m\u001b[97mINFO   \u001b[0m] \u001b[36mexport_json\u001b[0m:\u001b[36mmain\u001b[0m:\u001b[36m66\u001b[0m- \u001b[1m\u001b[97mSaved to: temp_images/S3\u001b[0m\n"
     ]
    },
    {
     "name": "stdout",
     "output_type": "stream",
     "text": [
      "image: 7.json\n"
     ]
    },
    {
     "name": "stderr",
     "output_type": "stream",
     "text": [
      "2024-08-06 12:22:51,082 [\u001b[1m\u001b[97mINFO   \u001b[0m] \u001b[36mexport_json\u001b[0m:\u001b[36mmain\u001b[0m:\u001b[36m66\u001b[0m- \u001b[1m\u001b[97mSaved to: temp_images/7\u001b[0m\n"
     ]
    },
    {
     "name": "stdout",
     "output_type": "stream",
     "text": [
      "image: GP07-Pond0021.json\n"
     ]
    },
    {
     "name": "stderr",
     "output_type": "stream",
     "text": [
      "2024-08-06 12:22:55,884 [\u001b[1m\u001b[97mINFO   \u001b[0m] \u001b[36mexport_json\u001b[0m:\u001b[36mmain\u001b[0m:\u001b[36m66\u001b[0m- \u001b[1m\u001b[97mSaved to: temp_images/GP07-Pond0021\u001b[0m\n"
     ]
    },
    {
     "name": "stdout",
     "output_type": "stream",
     "text": [
      "image: 9.json\n"
     ]
    },
    {
     "name": "stderr",
     "output_type": "stream",
     "text": [
      "2024-08-06 12:22:57,693 [\u001b[1m\u001b[97mINFO   \u001b[0m] \u001b[36mexport_json\u001b[0m:\u001b[36mmain\u001b[0m:\u001b[36m66\u001b[0m- \u001b[1m\u001b[97mSaved to: temp_images/9\u001b[0m\n"
     ]
    },
    {
     "name": "stdout",
     "output_type": "stream",
     "text": [
      "image: Pond2_10.json\n"
     ]
    },
    {
     "name": "stderr",
     "output_type": "stream",
     "text": [
      "2024-08-06 12:22:58,905 [\u001b[1m\u001b[97mINFO   \u001b[0m] \u001b[36mexport_json\u001b[0m:\u001b[36mmain\u001b[0m:\u001b[36m66\u001b[0m- \u001b[1m\u001b[97mSaved to: temp_images/Pond2_10\u001b[0m\n"
     ]
    },
    {
     "name": "stdout",
     "output_type": "stream",
     "text": [
      "image: A18.json\n"
     ]
    },
    {
     "name": "stderr",
     "output_type": "stream",
     "text": [
      "2024-08-06 12:23:00,081 [\u001b[1m\u001b[97mINFO   \u001b[0m] \u001b[36mexport_json\u001b[0m:\u001b[36mmain\u001b[0m:\u001b[36m66\u001b[0m- \u001b[1m\u001b[97mSaved to: temp_images/A18\u001b[0m\n"
     ]
    },
    {
     "name": "stdout",
     "output_type": "stream",
     "text": [
      "image: Z15.json\n"
     ]
    },
    {
     "name": "stderr",
     "output_type": "stream",
     "text": [
      "2024-08-06 12:23:01,978 [\u001b[1m\u001b[97mINFO   \u001b[0m] \u001b[36mexport_json\u001b[0m:\u001b[36mmain\u001b[0m:\u001b[36m66\u001b[0m- \u001b[1m\u001b[97mSaved to: temp_images/Z15\u001b[0m\n"
     ]
    },
    {
     "name": "stdout",
     "output_type": "stream",
     "text": [
      "image: M7.json\n"
     ]
    },
    {
     "name": "stderr",
     "output_type": "stream",
     "text": [
      "2024-08-06 12:23:03,850 [\u001b[1m\u001b[97mINFO   \u001b[0m] \u001b[36mexport_json\u001b[0m:\u001b[36mmain\u001b[0m:\u001b[36m66\u001b[0m- \u001b[1m\u001b[97mSaved to: temp_images/M7\u001b[0m\n"
     ]
    },
    {
     "name": "stdout",
     "output_type": "stream",
     "text": [
      "image: PondFix_6i.json\n"
     ]
    },
    {
     "name": "stderr",
     "output_type": "stream",
     "text": [
      "2024-08-06 12:23:05,015 [\u001b[1m\u001b[97mINFO   \u001b[0m] \u001b[36mexport_json\u001b[0m:\u001b[36mmain\u001b[0m:\u001b[36m66\u001b[0m- \u001b[1m\u001b[97mSaved to: temp_images/PondFix_6i\u001b[0m\n"
     ]
    },
    {
     "name": "stdout",
     "output_type": "stream",
     "text": [
      "image: GP07-Pond0035.json\n"
     ]
    },
    {
     "name": "stderr",
     "output_type": "stream",
     "text": [
      "2024-08-06 12:23:09,872 [\u001b[1m\u001b[97mINFO   \u001b[0m] \u001b[36mexport_json\u001b[0m:\u001b[36mmain\u001b[0m:\u001b[36m66\u001b[0m- \u001b[1m\u001b[97mSaved to: temp_images/GP07-Pond0035\u001b[0m\n"
     ]
    },
    {
     "name": "stdout",
     "output_type": "stream",
     "text": [
      "image: M9.json\n"
     ]
    },
    {
     "name": "stderr",
     "output_type": "stream",
     "text": [
      "2024-08-06 12:23:11,746 [\u001b[1m\u001b[97mINFO   \u001b[0m] \u001b[36mexport_json\u001b[0m:\u001b[36mmain\u001b[0m:\u001b[36m66\u001b[0m- \u001b[1m\u001b[97mSaved to: temp_images/M9\u001b[0m\n"
     ]
    },
    {
     "name": "stdout",
     "output_type": "stream",
     "text": [
      "image: POND_002.json\n"
     ]
    },
    {
     "name": "stderr",
     "output_type": "stream",
     "text": [
      "2024-08-06 12:23:13,896 [\u001b[1m\u001b[97mINFO   \u001b[0m] \u001b[36mexport_json\u001b[0m:\u001b[36mmain\u001b[0m:\u001b[36m66\u001b[0m- \u001b[1m\u001b[97mSaved to: temp_images/POND_002\u001b[0m\n"
     ]
    },
    {
     "name": "stdout",
     "output_type": "stream",
     "text": [
      "image: 15.json\n"
     ]
    },
    {
     "name": "stderr",
     "output_type": "stream",
     "text": [
      "2024-08-06 12:23:15,862 [\u001b[1m\u001b[97mINFO   \u001b[0m] \u001b[36mexport_json\u001b[0m:\u001b[36mmain\u001b[0m:\u001b[36m66\u001b[0m- \u001b[1m\u001b[97mSaved to: temp_images/15\u001b[0m\n",
      "mkdir: cannot create directory ‘temp_images/RIL’: File exists\n"
     ]
    },
    {
     "name": "stdout",
     "output_type": "stream",
     "text": [
      "image: RIL 1216_13.json\n"
     ]
    },
    {
     "name": "stderr",
     "output_type": "stream",
     "text": [
      "usage: labelme_export_json [-h] [-o OUT] json_file\n",
      "labelme_export_json: error: unrecognized arguments: 1216_13.json 1216_13\n"
     ]
    },
    {
     "name": "stdout",
     "output_type": "stream",
     "text": [
      "image: 14.json\n"
     ]
    },
    {
     "name": "stderr",
     "output_type": "stream",
     "text": [
      "2024-08-06 12:23:18,675 [\u001b[1m\u001b[97mINFO   \u001b[0m] \u001b[36mexport_json\u001b[0m:\u001b[36mmain\u001b[0m:\u001b[36m66\u001b[0m- \u001b[1m\u001b[97mSaved to: temp_images/14\u001b[0m\n"
     ]
    },
    {
     "name": "stdout",
     "output_type": "stream",
     "text": [
      "image: tem2.json\n"
     ]
    },
    {
     "name": "stderr",
     "output_type": "stream",
     "text": [
      "2024-08-06 12:23:36,321 [\u001b[1m\u001b[97mINFO   \u001b[0m] \u001b[36mexport_json\u001b[0m:\u001b[36mmain\u001b[0m:\u001b[36m66\u001b[0m- \u001b[1m\u001b[97mSaved to: temp_images/tem2\u001b[0m\n"
     ]
    },
    {
     "name": "stdout",
     "output_type": "stream",
     "text": [
      "image: A4.json\n"
     ]
    },
    {
     "name": "stderr",
     "output_type": "stream",
     "text": [
      "2024-08-06 12:23:37,508 [\u001b[1m\u001b[97mINFO   \u001b[0m] \u001b[36mexport_json\u001b[0m:\u001b[36mmain\u001b[0m:\u001b[36m66\u001b[0m- \u001b[1m\u001b[97mSaved to: temp_images/A4\u001b[0m\n"
     ]
    },
    {
     "name": "stdout",
     "output_type": "stream",
     "text": [
      "image: E1.json\n"
     ]
    },
    {
     "name": "stderr",
     "output_type": "stream",
     "text": [
      "2024-08-06 12:23:38,706 [\u001b[1m\u001b[97mINFO   \u001b[0m] \u001b[36mexport_json\u001b[0m:\u001b[36mmain\u001b[0m:\u001b[36m66\u001b[0m- \u001b[1m\u001b[97mSaved to: temp_images/E1\u001b[0m\n",
      "mkdir: cannot create directory ‘temp_images/RIL’: File exists\n"
     ]
    },
    {
     "name": "stdout",
     "output_type": "stream",
     "text": [
      "image: RIL 601_2.json\n"
     ]
    },
    {
     "name": "stderr",
     "output_type": "stream",
     "text": [
      "usage: labelme_export_json [-h] [-o OUT] json_file\n",
      "labelme_export_json: error: unrecognized arguments: 601_2.json 601_2\n"
     ]
    },
    {
     "name": "stdout",
     "output_type": "stream",
     "text": [
      "image: PondSTEM1.json\n"
     ]
    },
    {
     "name": "stderr",
     "output_type": "stream",
     "text": [
      "2024-08-06 12:23:40,865 [\u001b[1m\u001b[97mINFO   \u001b[0m] \u001b[36mexport_json\u001b[0m:\u001b[36mmain\u001b[0m:\u001b[36m66\u001b[0m- \u001b[1m\u001b[97mSaved to: temp_images/PondSTEM1\u001b[0m\n"
     ]
    },
    {
     "name": "stdout",
     "output_type": "stream",
     "text": [
      "image: 22.json\n"
     ]
    },
    {
     "name": "stderr",
     "output_type": "stream",
     "text": [
      "2024-08-06 12:23:42,566 [\u001b[1m\u001b[97mINFO   \u001b[0m] \u001b[36mexport_json\u001b[0m:\u001b[36mmain\u001b[0m:\u001b[36m66\u001b[0m- \u001b[1m\u001b[97mSaved to: temp_images/22\u001b[0m\n",
      "mkdir: cannot create directory ‘temp_images/RIL’: File exists\n"
     ]
    },
    {
     "name": "stdout",
     "output_type": "stream",
     "text": [
      "image: RIL 1216_20.json\n"
     ]
    },
    {
     "name": "stderr",
     "output_type": "stream",
     "text": [
      "usage: labelme_export_json [-h] [-o OUT] json_file\n",
      "labelme_export_json: error: unrecognized arguments: 1216_20.json 1216_20\n"
     ]
    },
    {
     "name": "stdout",
     "output_type": "stream",
     "text": [
      "image: B9.json\n"
     ]
    },
    {
     "name": "stderr",
     "output_type": "stream",
     "text": [
      "2024-08-06 12:23:44,789 [\u001b[1m\u001b[97mINFO   \u001b[0m] \u001b[36mexport_json\u001b[0m:\u001b[36mmain\u001b[0m:\u001b[36m66\u001b[0m- \u001b[1m\u001b[97mSaved to: temp_images/B9\u001b[0m\n"
     ]
    },
    {
     "name": "stdout",
     "output_type": "stream",
     "text": [
      "image: GP07-Germplasm300000.0V10000X0007.json\n"
     ]
    },
    {
     "name": "stderr",
     "output_type": "stream",
     "text": [
      "2024-08-06 12:24:04,127 [\u001b[1m\u001b[97mINFO   \u001b[0m] \u001b[36mexport_json\u001b[0m:\u001b[36mmain\u001b[0m:\u001b[36m66\u001b[0m- \u001b[1m\u001b[97mSaved to: temp_images/GP07-Germplasm300000.0V10000X0007\u001b[0m\n"
     ]
    },
    {
     "name": "stdout",
     "output_type": "stream",
     "text": [
      "image: F6.json\n"
     ]
    },
    {
     "name": "stderr",
     "output_type": "stream",
     "text": [
      "2024-08-06 12:24:05,981 [\u001b[1m\u001b[97mINFO   \u001b[0m] \u001b[36mexport_json\u001b[0m:\u001b[36mmain\u001b[0m:\u001b[36m66\u001b[0m- \u001b[1m\u001b[97mSaved to: temp_images/F6\u001b[0m\n"
     ]
    },
    {
     "name": "stdout",
     "output_type": "stream",
     "text": [
      "image: D8.json\n"
     ]
    },
    {
     "name": "stderr",
     "output_type": "stream",
     "text": [
      "2024-08-06 12:24:07,176 [\u001b[1m\u001b[97mINFO   \u001b[0m] \u001b[36mexport_json\u001b[0m:\u001b[36mmain\u001b[0m:\u001b[36m66\u001b[0m- \u001b[1m\u001b[97mSaved to: temp_images/D8\u001b[0m\n",
      "mkdir: cannot create directory ‘temp_images/RIL’: File exists\n"
     ]
    },
    {
     "name": "stdout",
     "output_type": "stream",
     "text": [
      "image: RIL 601_8.json\n"
     ]
    },
    {
     "name": "stderr",
     "output_type": "stream",
     "text": [
      "usage: labelme_export_json [-h] [-o OUT] json_file\n",
      "labelme_export_json: error: unrecognized arguments: 601_8.json 601_8\n"
     ]
    },
    {
     "name": "stdout",
     "output_type": "stream",
     "text": [
      "image: P5.json\n"
     ]
    },
    {
     "name": "stderr",
     "output_type": "stream",
     "text": [
      "2024-08-06 12:24:10,053 [\u001b[1m\u001b[97mINFO   \u001b[0m] \u001b[36mexport_json\u001b[0m:\u001b[36mmain\u001b[0m:\u001b[36m66\u001b[0m- \u001b[1m\u001b[97mSaved to: temp_images/P5\u001b[0m\n"
     ]
    },
    {
     "name": "stdout",
     "output_type": "stream",
     "text": [
      "image: B17.json\n"
     ]
    },
    {
     "name": "stderr",
     "output_type": "stream",
     "text": [
      "2024-08-06 12:24:11,208 [\u001b[1m\u001b[97mINFO   \u001b[0m] \u001b[36mexport_json\u001b[0m:\u001b[36mmain\u001b[0m:\u001b[36m66\u001b[0m- \u001b[1m\u001b[97mSaved to: temp_images/B17\u001b[0m\n",
      "mkdir: cannot create directory ‘temp_images/RIL’: File exists\n"
     ]
    },
    {
     "name": "stdout",
     "output_type": "stream",
     "text": [
      "image: RIL 601_7.json\n"
     ]
    },
    {
     "name": "stderr",
     "output_type": "stream",
     "text": [
      "usage: labelme_export_json [-h] [-o OUT] json_file\n",
      "labelme_export_json: error: unrecognized arguments: 601_7.json 601_7\n"
     ]
    },
    {
     "name": "stdout",
     "output_type": "stream",
     "text": [
      "image: T7.json\n"
     ]
    },
    {
     "name": "stderr",
     "output_type": "stream",
     "text": [
      "2024-08-06 12:24:14,022 [\u001b[1m\u001b[97mINFO   \u001b[0m] \u001b[36mexport_json\u001b[0m:\u001b[36mmain\u001b[0m:\u001b[36m66\u001b[0m- \u001b[1m\u001b[97mSaved to: temp_images/T7\u001b[0m\n"
     ]
    },
    {
     "name": "stdout",
     "output_type": "stream",
     "text": [
      "image: D17.json\n"
     ]
    },
    {
     "name": "stderr",
     "output_type": "stream",
     "text": [
      "2024-08-06 12:24:15,252 [\u001b[1m\u001b[97mINFO   \u001b[0m] \u001b[36mexport_json\u001b[0m:\u001b[36mmain\u001b[0m:\u001b[36m66\u001b[0m- \u001b[1m\u001b[97mSaved to: temp_images/D17\u001b[0m\n"
     ]
    },
    {
     "name": "stdout",
     "output_type": "stream",
     "text": [
      "image: Gagva_LabFixed_12.json\n"
     ]
    },
    {
     "name": "stderr",
     "output_type": "stream",
     "text": [
      "2024-08-06 12:24:16,474 [\u001b[1m\u001b[97mINFO   \u001b[0m] \u001b[36mexport_json\u001b[0m:\u001b[36mmain\u001b[0m:\u001b[36m66\u001b[0m- \u001b[1m\u001b[97mSaved to: temp_images/Gagva_LabFixed_12\u001b[0m\n"
     ]
    },
    {
     "name": "stdout",
     "output_type": "stream",
     "text": [
      "image: B10.json\n"
     ]
    },
    {
     "name": "stderr",
     "output_type": "stream",
     "text": [
      "2024-08-06 12:24:17,670 [\u001b[1m\u001b[97mINFO   \u001b[0m] \u001b[36mexport_json\u001b[0m:\u001b[36mmain\u001b[0m:\u001b[36m66\u001b[0m- \u001b[1m\u001b[97mSaved to: temp_images/B10\u001b[0m\n"
     ]
    },
    {
     "name": "stdout",
     "output_type": "stream",
     "text": [
      "image: A6.json\n"
     ]
    },
    {
     "name": "stderr",
     "output_type": "stream",
     "text": [
      "2024-08-06 12:24:18,854 [\u001b[1m\u001b[97mINFO   \u001b[0m] \u001b[36mexport_json\u001b[0m:\u001b[36mmain\u001b[0m:\u001b[36m66\u001b[0m- \u001b[1m\u001b[97mSaved to: temp_images/A6\u001b[0m\n"
     ]
    },
    {
     "name": "stdout",
     "output_type": "stream",
     "text": [
      "image: Z7.json\n"
     ]
    },
    {
     "name": "stderr",
     "output_type": "stream",
     "text": [
      "2024-08-06 12:24:20,726 [\u001b[1m\u001b[97mINFO   \u001b[0m] \u001b[36mexport_json\u001b[0m:\u001b[36mmain\u001b[0m:\u001b[36m66\u001b[0m- \u001b[1m\u001b[97mSaved to: temp_images/Z7\u001b[0m\n"
     ]
    },
    {
     "name": "stdout",
     "output_type": "stream",
     "text": [
      "image: 4.json\n"
     ]
    },
    {
     "name": "stderr",
     "output_type": "stream",
     "text": [
      "2024-08-06 12:24:22,625 [\u001b[1m\u001b[97mINFO   \u001b[0m] \u001b[36mexport_json\u001b[0m:\u001b[36mmain\u001b[0m:\u001b[36m66\u001b[0m- \u001b[1m\u001b[97mSaved to: temp_images/4\u001b[0m\n"
     ]
    },
    {
     "name": "stdout",
     "output_type": "stream",
     "text": [
      "image: D7.json\n"
     ]
    },
    {
     "name": "stderr",
     "output_type": "stream",
     "text": [
      "2024-08-06 12:24:23,822 [\u001b[1m\u001b[97mINFO   \u001b[0m] \u001b[36mexport_json\u001b[0m:\u001b[36mmain\u001b[0m:\u001b[36m66\u001b[0m- \u001b[1m\u001b[97mSaved to: temp_images/D7\u001b[0m\n"
     ]
    },
    {
     "name": "stdout",
     "output_type": "stream",
     "text": [
      "image: RIL1217_18.json\n"
     ]
    },
    {
     "name": "stderr",
     "output_type": "stream",
     "text": [
      "2024-08-06 12:24:25,826 [\u001b[1m\u001b[97mINFO   \u001b[0m] \u001b[36mexport_json\u001b[0m:\u001b[36mmain\u001b[0m:\u001b[36m66\u001b[0m- \u001b[1m\u001b[97mSaved to: temp_images/RIL1217_18\u001b[0m\n"
     ]
    },
    {
     "name": "stdout",
     "output_type": "stream",
     "text": [
      "image: B16.json\n"
     ]
    },
    {
     "name": "stderr",
     "output_type": "stream",
     "text": [
      "2024-08-06 12:24:26,980 [\u001b[1m\u001b[97mINFO   \u001b[0m] \u001b[36mexport_json\u001b[0m:\u001b[36mmain\u001b[0m:\u001b[36m66\u001b[0m- \u001b[1m\u001b[97mSaved to: temp_images/B16\u001b[0m\n"
     ]
    },
    {
     "name": "stdout",
     "output_type": "stream",
     "text": [
      "image: D5.json\n"
     ]
    },
    {
     "name": "stderr",
     "output_type": "stream",
     "text": [
      "2024-08-06 12:24:28,173 [\u001b[1m\u001b[97mINFO   \u001b[0m] \u001b[36mexport_json\u001b[0m:\u001b[36mmain\u001b[0m:\u001b[36m66\u001b[0m- \u001b[1m\u001b[97mSaved to: temp_images/D5\u001b[0m\n"
     ]
    },
    {
     "name": "stdout",
     "output_type": "stream",
     "text": [
      "image: V10.json\n"
     ]
    },
    {
     "name": "stderr",
     "output_type": "stream",
     "text": [
      "2024-08-06 12:24:30,024 [\u001b[1m\u001b[97mINFO   \u001b[0m] \u001b[36mexport_json\u001b[0m:\u001b[36mmain\u001b[0m:\u001b[36m66\u001b[0m- \u001b[1m\u001b[97mSaved to: temp_images/V10\u001b[0m\n",
      "mkdir: cannot create directory ‘temp_images/RIL’: File exists\n"
     ]
    },
    {
     "name": "stdout",
     "output_type": "stream",
     "text": [
      "image: RIL 1216_16.json\n"
     ]
    },
    {
     "name": "stderr",
     "output_type": "stream",
     "text": [
      "usage: labelme_export_json [-h] [-o OUT] json_file\n",
      "labelme_export_json: error: unrecognized arguments: 1216_16.json 1216_16\n"
     ]
    },
    {
     "name": "stdout",
     "output_type": "stream",
     "text": [
      "image: V1.json\n"
     ]
    },
    {
     "name": "stderr",
     "output_type": "stream",
     "text": [
      "2024-08-06 12:24:32,835 [\u001b[1m\u001b[97mINFO   \u001b[0m] \u001b[36mexport_json\u001b[0m:\u001b[36mmain\u001b[0m:\u001b[36m66\u001b[0m- \u001b[1m\u001b[97mSaved to: temp_images/V1\u001b[0m\n"
     ]
    },
    {
     "name": "stdout",
     "output_type": "stream",
     "text": [
      "image: RIL1211_2.json\n"
     ]
    },
    {
     "name": "stderr",
     "output_type": "stream",
     "text": [
      "2024-08-06 12:24:34,820 [\u001b[1m\u001b[97mINFO   \u001b[0m] \u001b[36mexport_json\u001b[0m:\u001b[36mmain\u001b[0m:\u001b[36m66\u001b[0m- \u001b[1m\u001b[97mSaved to: temp_images/RIL1211_2\u001b[0m\n"
     ]
    },
    {
     "name": "stdout",
     "output_type": "stream",
     "text": [
      "image: Z20.json\n"
     ]
    },
    {
     "name": "stderr",
     "output_type": "stream",
     "text": [
      "2024-08-06 12:24:36,656 [\u001b[1m\u001b[97mINFO   \u001b[0m] \u001b[36mexport_json\u001b[0m:\u001b[36mmain\u001b[0m:\u001b[36m66\u001b[0m- \u001b[1m\u001b[97mSaved to: temp_images/Z20\u001b[0m\n"
     ]
    },
    {
     "name": "stdout",
     "output_type": "stream",
     "text": [
      "image: 2.json\n"
     ]
    },
    {
     "name": "stderr",
     "output_type": "stream",
     "text": [
      "2024-08-06 12:24:38,566 [\u001b[1m\u001b[97mINFO   \u001b[0m] \u001b[36mexport_json\u001b[0m:\u001b[36mmain\u001b[0m:\u001b[36m66\u001b[0m- \u001b[1m\u001b[97mSaved to: temp_images/2\u001b[0m\n",
      "mkdir: cannot create directory ‘temp_images/RIL’: File exists\n"
     ]
    },
    {
     "name": "stdout",
     "output_type": "stream",
     "text": [
      "image: RIL 601_19.json\n"
     ]
    },
    {
     "name": "stderr",
     "output_type": "stream",
     "text": [
      "usage: labelme_export_json [-h] [-o OUT] json_file\n",
      "labelme_export_json: error: unrecognized arguments: 601_19.json 601_19\n"
     ]
    },
    {
     "name": "stdout",
     "output_type": "stream",
     "text": [
      "image: GP07-Germplasm300000.0V13000X0004.json\n"
     ]
    },
    {
     "name": "stderr",
     "output_type": "stream",
     "text": [
      "2024-08-06 12:24:59,289 [\u001b[1m\u001b[97mINFO   \u001b[0m] \u001b[36mexport_json\u001b[0m:\u001b[36mmain\u001b[0m:\u001b[36m66\u001b[0m- \u001b[1m\u001b[97mSaved to: temp_images/GP07-Germplasm300000.0V13000X0004\u001b[0m\n"
     ]
    },
    {
     "name": "stdout",
     "output_type": "stream",
     "text": [
      "image: RIL1217_10.json\n"
     ]
    },
    {
     "name": "stderr",
     "output_type": "stream",
     "text": [
      "2024-08-06 12:25:01,327 [\u001b[1m\u001b[97mINFO   \u001b[0m] \u001b[36mexport_json\u001b[0m:\u001b[36mmain\u001b[0m:\u001b[36m66\u001b[0m- \u001b[1m\u001b[97mSaved to: temp_images/RIL1217_10\u001b[0m\n",
      "mkdir: cannot create directory ‘temp_images/RIL’: File exists\n"
     ]
    },
    {
     "name": "stdout",
     "output_type": "stream",
     "text": [
      "image: RIL 601_10.json\n"
     ]
    },
    {
     "name": "stderr",
     "output_type": "stream",
     "text": [
      "usage: labelme_export_json [-h] [-o OUT] json_file\n",
      "labelme_export_json: error: unrecognized arguments: 601_10.json 601_10\n"
     ]
    },
    {
     "name": "stdout",
     "output_type": "stream",
     "text": [
      "image: F10.json\n"
     ]
    },
    {
     "name": "stderr",
     "output_type": "stream",
     "text": [
      "2024-08-06 12:25:04,116 [\u001b[1m\u001b[97mINFO   \u001b[0m] \u001b[36mexport_json\u001b[0m:\u001b[36mmain\u001b[0m:\u001b[36m66\u001b[0m- \u001b[1m\u001b[97mSaved to: temp_images/F10\u001b[0m\n"
     ]
    },
    {
     "name": "stdout",
     "output_type": "stream",
     "text": [
      "image: P6.json\n"
     ]
    },
    {
     "name": "stderr",
     "output_type": "stream",
     "text": [
      "2024-08-06 12:25:05,934 [\u001b[1m\u001b[97mINFO   \u001b[0m] \u001b[36mexport_json\u001b[0m:\u001b[36mmain\u001b[0m:\u001b[36m66\u001b[0m- \u001b[1m\u001b[97mSaved to: temp_images/P6\u001b[0m\n",
      "mkdir: cannot create directory ‘temp_images/RIL’: File exists\n"
     ]
    },
    {
     "name": "stdout",
     "output_type": "stream",
     "text": [
      "image: RIL 601_20.json\n"
     ]
    },
    {
     "name": "stderr",
     "output_type": "stream",
     "text": [
      "usage: labelme_export_json [-h] [-o OUT] json_file\n",
      "labelme_export_json: error: unrecognized arguments: 601_20.json 601_20\n",
      "mkdir: cannot create directory ‘temp_images/RIL’: File exists\n"
     ]
    },
    {
     "name": "stdout",
     "output_type": "stream",
     "text": [
      "image: RIL 1216_4.json\n"
     ]
    },
    {
     "name": "stderr",
     "output_type": "stream",
     "text": [
      "usage: labelme_export_json [-h] [-o OUT] json_file\n",
      "labelme_export_json: error: unrecognized arguments: 1216_4.json 1216_4\n"
     ]
    },
    {
     "name": "stdout",
     "output_type": "stream",
     "text": [
      "image: D4.json\n"
     ]
    },
    {
     "name": "stderr",
     "output_type": "stream",
     "text": [
      "2024-08-06 12:25:09,077 [\u001b[1m\u001b[97mINFO   \u001b[0m] \u001b[36mexport_json\u001b[0m:\u001b[36mmain\u001b[0m:\u001b[36m66\u001b[0m- \u001b[1m\u001b[97mSaved to: temp_images/D4\u001b[0m\n",
      "mkdir: cannot create directory ‘temp_images/RIL’: File exists\n"
     ]
    },
    {
     "name": "stdout",
     "output_type": "stream",
     "text": [
      "image: RIL 601_16.json\n"
     ]
    },
    {
     "name": "stderr",
     "output_type": "stream",
     "text": [
      "usage: labelme_export_json [-h] [-o OUT] json_file\n",
      "labelme_export_json: error: unrecognized arguments: 601_16.json 601_16\n"
     ]
    },
    {
     "name": "stdout",
     "output_type": "stream",
     "text": [
      "image: C3.json\n"
     ]
    },
    {
     "name": "stderr",
     "output_type": "stream",
     "text": [
      "2024-08-06 12:25:11,920 [\u001b[1m\u001b[97mINFO   \u001b[0m] \u001b[36mexport_json\u001b[0m:\u001b[36mmain\u001b[0m:\u001b[36m66\u001b[0m- \u001b[1m\u001b[97mSaved to: temp_images/C3\u001b[0m\n",
      "mkdir: cannot create directory ‘temp_images/RIL’: File exists\n"
     ]
    },
    {
     "name": "stdout",
     "output_type": "stream",
     "text": [
      "image: RIL 601_1.json\n"
     ]
    },
    {
     "name": "stderr",
     "output_type": "stream",
     "text": [
      "usage: labelme_export_json [-h] [-o OUT] json_file\n",
      "labelme_export_json: error: unrecognized arguments: 601_1.json 601_1\n",
      "mkdir: cannot create directory ‘temp_images/RIL’: File exists\n"
     ]
    },
    {
     "name": "stdout",
     "output_type": "stream",
     "text": [
      "image: RIL 1216_18.json\n"
     ]
    },
    {
     "name": "stderr",
     "output_type": "stream",
     "text": [
      "usage: labelme_export_json [-h] [-o OUT] json_file\n",
      "labelme_export_json: error: unrecognized arguments: 1216_18.json 1216_18\n"
     ]
    },
    {
     "name": "stdout",
     "output_type": "stream",
     "text": [
      "image: D14.json\n"
     ]
    },
    {
     "name": "stderr",
     "output_type": "stream",
     "text": [
      "2024-08-06 12:25:15,103 [\u001b[1m\u001b[97mINFO   \u001b[0m] \u001b[36mexport_json\u001b[0m:\u001b[36mmain\u001b[0m:\u001b[36m66\u001b[0m- \u001b[1m\u001b[97mSaved to: temp_images/D14\u001b[0m\n"
     ]
    },
    {
     "name": "stdout",
     "output_type": "stream",
     "text": [
      "image: STEM10_invert.json\n"
     ]
    },
    {
     "name": "stderr",
     "output_type": "stream",
     "text": [
      "2024-08-06 12:25:16,927 [\u001b[1m\u001b[97mINFO   \u001b[0m] \u001b[36mexport_json\u001b[0m:\u001b[36mmain\u001b[0m:\u001b[36m66\u001b[0m- \u001b[1m\u001b[97mSaved to: temp_images/STEM10_invert\u001b[0m\n"
     ]
    },
    {
     "name": "stdout",
     "output_type": "stream",
     "text": [
      "image: B6.json\n"
     ]
    },
    {
     "name": "stderr",
     "output_type": "stream",
     "text": [
      "2024-08-06 12:25:18,114 [\u001b[1m\u001b[97mINFO   \u001b[0m] \u001b[36mexport_json\u001b[0m:\u001b[36mmain\u001b[0m:\u001b[36m66\u001b[0m- \u001b[1m\u001b[97mSaved to: temp_images/B6\u001b[0m\n",
      "mkdir: cannot create directory ‘temp_images/RIL’: File exists\n"
     ]
    },
    {
     "name": "stdout",
     "output_type": "stream",
     "text": [
      "image: RIL 601_18.json\n"
     ]
    },
    {
     "name": "stderr",
     "output_type": "stream",
     "text": [
      "usage: labelme_export_json [-h] [-o OUT] json_file\n",
      "labelme_export_json: error: unrecognized arguments: 601_18.json 601_18\n"
     ]
    },
    {
     "name": "stdout",
     "output_type": "stream",
     "text": [
      "image: RIL1217_3.json\n"
     ]
    },
    {
     "name": "stderr",
     "output_type": "stream",
     "text": [
      "2024-08-06 12:25:21,055 [\u001b[1m\u001b[97mINFO   \u001b[0m] \u001b[36mexport_json\u001b[0m:\u001b[36mmain\u001b[0m:\u001b[36m66\u001b[0m- \u001b[1m\u001b[97mSaved to: temp_images/RIL1217_3\u001b[0m\n",
      "mkdir: cannot create directory ‘temp_images/RIL’: File exists\n"
     ]
    },
    {
     "name": "stdout",
     "output_type": "stream",
     "text": [
      "image: RIL 601_3.json\n"
     ]
    },
    {
     "name": "stderr",
     "output_type": "stream",
     "text": [
      "usage: labelme_export_json [-h] [-o OUT] json_file\n",
      "labelme_export_json: error: unrecognized arguments: 601_3.json 601_3\n"
     ]
    },
    {
     "name": "stdout",
     "output_type": "stream",
     "text": [
      "image: A17.json\n"
     ]
    },
    {
     "name": "stderr",
     "output_type": "stream",
     "text": [
      "2024-08-06 12:25:23,204 [\u001b[1m\u001b[97mINFO   \u001b[0m] \u001b[36mexport_json\u001b[0m:\u001b[36mmain\u001b[0m:\u001b[36m66\u001b[0m- \u001b[1m\u001b[97mSaved to: temp_images/A17\u001b[0m\n"
     ]
    },
    {
     "name": "stdout",
     "output_type": "stream",
     "text": [
      "image: RIL1211_12.json\n"
     ]
    },
    {
     "name": "stderr",
     "output_type": "stream",
     "text": [
      "2024-08-06 12:25:25,149 [\u001b[1m\u001b[97mINFO   \u001b[0m] \u001b[36mexport_json\u001b[0m:\u001b[36mmain\u001b[0m:\u001b[36m66\u001b[0m- \u001b[1m\u001b[97mSaved to: temp_images/RIL1211_12\u001b[0m\n",
      "mkdir: cannot create directory ‘temp_images/RIL’: File exists\n"
     ]
    },
    {
     "name": "stdout",
     "output_type": "stream",
     "text": [
      "image: RIL 1216_15.json\n"
     ]
    },
    {
     "name": "stderr",
     "output_type": "stream",
     "text": [
      "usage: labelme_export_json [-h] [-o OUT] json_file\n",
      "labelme_export_json: error: unrecognized arguments: 1216_15.json 1216_15\n"
     ]
    },
    {
     "name": "stdout",
     "output_type": "stream",
     "text": [
      "image: S1.json\n"
     ]
    },
    {
     "name": "stderr",
     "output_type": "stream",
     "text": [
      "2024-08-06 12:25:27,858 [\u001b[1m\u001b[97mINFO   \u001b[0m] \u001b[36mexport_json\u001b[0m:\u001b[36mmain\u001b[0m:\u001b[36m66\u001b[0m- \u001b[1m\u001b[97mSaved to: temp_images/S1\u001b[0m\n"
     ]
    },
    {
     "name": "stdout",
     "output_type": "stream",
     "text": [
      "image: F14.json\n"
     ]
    },
    {
     "name": "stderr",
     "output_type": "stream",
     "text": [
      "2024-08-06 12:25:29,675 [\u001b[1m\u001b[97mINFO   \u001b[0m] \u001b[36mexport_json\u001b[0m:\u001b[36mmain\u001b[0m:\u001b[36m66\u001b[0m- \u001b[1m\u001b[97mSaved to: temp_images/F14\u001b[0m\n"
     ]
    },
    {
     "name": "stdout",
     "output_type": "stream",
     "text": [
      "image: GP07-Germplasm300000.0V10000X0003.json\n"
     ]
    },
    {
     "name": "stderr",
     "output_type": "stream",
     "text": [
      "2024-08-06 12:25:48,847 [\u001b[1m\u001b[97mINFO   \u001b[0m] \u001b[36mexport_json\u001b[0m:\u001b[36mmain\u001b[0m:\u001b[36m66\u001b[0m- \u001b[1m\u001b[97mSaved to: temp_images/GP07-Germplasm300000.0V10000X0003\u001b[0m\n"
     ]
    },
    {
     "name": "stdout",
     "output_type": "stream",
     "text": [
      "image: C12.json\n"
     ]
    },
    {
     "name": "stderr",
     "output_type": "stream",
     "text": [
      "2024-08-06 12:25:50,720 [\u001b[1m\u001b[97mINFO   \u001b[0m] \u001b[36mexport_json\u001b[0m:\u001b[36mmain\u001b[0m:\u001b[36m66\u001b[0m- \u001b[1m\u001b[97mSaved to: temp_images/C12\u001b[0m\n"
     ]
    },
    {
     "name": "stdout",
     "output_type": "stream",
     "text": [
      "image: RIL1211_6.json\n"
     ]
    },
    {
     "name": "stderr",
     "output_type": "stream",
     "text": [
      "2024-08-06 12:25:52,720 [\u001b[1m\u001b[97mINFO   \u001b[0m] \u001b[36mexport_json\u001b[0m:\u001b[36mmain\u001b[0m:\u001b[36m66\u001b[0m- \u001b[1m\u001b[97mSaved to: temp_images/RIL1211_6\u001b[0m\n"
     ]
    },
    {
     "name": "stdout",
     "output_type": "stream",
     "text": [
      "image: L8.json\n"
     ]
    },
    {
     "name": "stderr",
     "output_type": "stream",
     "text": [
      "2024-08-06 12:25:54,441 [\u001b[1m\u001b[97mINFO   \u001b[0m] \u001b[36mexport_json\u001b[0m:\u001b[36mmain\u001b[0m:\u001b[36m66\u001b[0m- \u001b[1m\u001b[97mSaved to: temp_images/L8\u001b[0m\n"
     ]
    },
    {
     "name": "stdout",
     "output_type": "stream",
     "text": [
      "image: HighSpeedFraction_8.json\n"
     ]
    },
    {
     "name": "stderr",
     "output_type": "stream",
     "text": [
      "2024-08-06 12:25:55,648 [\u001b[1m\u001b[97mINFO   \u001b[0m] \u001b[36mexport_json\u001b[0m:\u001b[36mmain\u001b[0m:\u001b[36m66\u001b[0m- \u001b[1m\u001b[97mSaved to: temp_images/HighSpeedFraction_8\u001b[0m\n"
     ]
    },
    {
     "name": "stdout",
     "output_type": "stream",
     "text": [
      "image: B4.json\n"
     ]
    },
    {
     "name": "stderr",
     "output_type": "stream",
     "text": [
      "2024-08-06 12:25:56,804 [\u001b[1m\u001b[97mINFO   \u001b[0m] \u001b[36mexport_json\u001b[0m:\u001b[36mmain\u001b[0m:\u001b[36m66\u001b[0m- \u001b[1m\u001b[97mSaved to: temp_images/B4\u001b[0m\n"
     ]
    },
    {
     "name": "stdout",
     "output_type": "stream",
     "text": [
      "image: RIL1217_15.json\n"
     ]
    },
    {
     "name": "stderr",
     "output_type": "stream",
     "text": [
      "2024-08-06 12:25:58,840 [\u001b[1m\u001b[97mINFO   \u001b[0m] \u001b[36mexport_json\u001b[0m:\u001b[36mmain\u001b[0m:\u001b[36m66\u001b[0m- \u001b[1m\u001b[97mSaved to: temp_images/RIL1217_15\u001b[0m\n"
     ]
    },
    {
     "name": "stdout",
     "output_type": "stream",
     "text": [
      "image: B3.json\n"
     ]
    },
    {
     "name": "stderr",
     "output_type": "stream",
     "text": [
      "2024-08-06 12:26:00,047 [\u001b[1m\u001b[97mINFO   \u001b[0m] \u001b[36mexport_json\u001b[0m:\u001b[36mmain\u001b[0m:\u001b[36m66\u001b[0m- \u001b[1m\u001b[97mSaved to: temp_images/B3\u001b[0m\n"
     ]
    },
    {
     "name": "stdout",
     "output_type": "stream",
     "text": [
      "image: P8.json\n"
     ]
    },
    {
     "name": "stderr",
     "output_type": "stream",
     "text": [
      "2024-08-06 12:26:01,866 [\u001b[1m\u001b[97mINFO   \u001b[0m] \u001b[36mexport_json\u001b[0m:\u001b[36mmain\u001b[0m:\u001b[36m66\u001b[0m- \u001b[1m\u001b[97mSaved to: temp_images/P8\u001b[0m\n"
     ]
    },
    {
     "name": "stdout",
     "output_type": "stream",
     "text": [
      "image: STEM4_invert.json\n"
     ]
    },
    {
     "name": "stderr",
     "output_type": "stream",
     "text": [
      "2024-08-06 12:26:03,802 [\u001b[1m\u001b[97mINFO   \u001b[0m] \u001b[36mexport_json\u001b[0m:\u001b[36mmain\u001b[0m:\u001b[36m66\u001b[0m- \u001b[1m\u001b[97mSaved to: temp_images/STEM4_invert\u001b[0m\n"
     ]
    },
    {
     "name": "stdout",
     "output_type": "stream",
     "text": [
      "image: GP07-Pond0008.json\n"
     ]
    },
    {
     "name": "stderr",
     "output_type": "stream",
     "text": [
      "2024-08-06 12:26:08,123 [\u001b[1m\u001b[97mINFO   \u001b[0m] \u001b[36mexport_json\u001b[0m:\u001b[36mmain\u001b[0m:\u001b[36m66\u001b[0m- \u001b[1m\u001b[97mSaved to: temp_images/GP07-Pond0008\u001b[0m\n"
     ]
    },
    {
     "name": "stdout",
     "output_type": "stream",
     "text": [
      "image: PondFix_11i.json\n"
     ]
    },
    {
     "name": "stderr",
     "output_type": "stream",
     "text": [
      "2024-08-06 12:26:09,354 [\u001b[1m\u001b[97mINFO   \u001b[0m] \u001b[36mexport_json\u001b[0m:\u001b[36mmain\u001b[0m:\u001b[36m66\u001b[0m- \u001b[1m\u001b[97mSaved to: temp_images/PondFix_11i\u001b[0m\n"
     ]
    },
    {
     "name": "stdout",
     "output_type": "stream",
     "text": [
      "image: Pond2_16.json\n"
     ]
    },
    {
     "name": "stderr",
     "output_type": "stream",
     "text": [
      "2024-08-06 12:26:10,561 [\u001b[1m\u001b[97mINFO   \u001b[0m] \u001b[36mexport_json\u001b[0m:\u001b[36mmain\u001b[0m:\u001b[36m66\u001b[0m- \u001b[1m\u001b[97mSaved to: temp_images/Pond2_16\u001b[0m\n",
      "mkdir: cannot create directory ‘temp_images/RIL’: File exists\n"
     ]
    },
    {
     "name": "stdout",
     "output_type": "stream",
     "text": [
      "image: RIL 1216_10.json\n"
     ]
    },
    {
     "name": "stderr",
     "output_type": "stream",
     "text": [
      "usage: labelme_export_json [-h] [-o OUT] json_file\n",
      "labelme_export_json: error: unrecognized arguments: 1216_10.json 1216_10\n"
     ]
    },
    {
     "name": "stdout",
     "output_type": "stream",
     "text": [
      "image: A3.json\n"
     ]
    },
    {
     "name": "stderr",
     "output_type": "stream",
     "text": [
      "2024-08-06 12:26:12,697 [\u001b[1m\u001b[97mINFO   \u001b[0m] \u001b[36mexport_json\u001b[0m:\u001b[36mmain\u001b[0m:\u001b[36m66\u001b[0m- \u001b[1m\u001b[97mSaved to: temp_images/A3\u001b[0m\n"
     ]
    },
    {
     "name": "stdout",
     "output_type": "stream",
     "text": [
      "image: V6.json\n"
     ]
    },
    {
     "name": "stderr",
     "output_type": "stream",
     "text": [
      "2024-08-06 12:26:14,579 [\u001b[1m\u001b[97mINFO   \u001b[0m] \u001b[36mexport_json\u001b[0m:\u001b[36mmain\u001b[0m:\u001b[36m66\u001b[0m- \u001b[1m\u001b[97mSaved to: temp_images/V6\u001b[0m\n"
     ]
    },
    {
     "name": "stdout",
     "output_type": "stream",
     "text": [
      "image: RIL1217_20.json\n"
     ]
    },
    {
     "name": "stderr",
     "output_type": "stream",
     "text": [
      "2024-08-06 12:26:16,663 [\u001b[1m\u001b[97mINFO   \u001b[0m] \u001b[36mexport_json\u001b[0m:\u001b[36mmain\u001b[0m:\u001b[36m66\u001b[0m- \u001b[1m\u001b[97mSaved to: temp_images/RIL1217_20\u001b[0m\n"
     ]
    },
    {
     "name": "stdout",
     "output_type": "stream",
     "text": [
      "image: C1.json\n"
     ]
    },
    {
     "name": "stderr",
     "output_type": "stream",
     "text": [
      "2024-08-06 12:26:18,439 [\u001b[1m\u001b[97mINFO   \u001b[0m] \u001b[36mexport_json\u001b[0m:\u001b[36mmain\u001b[0m:\u001b[36m66\u001b[0m- \u001b[1m\u001b[97mSaved to: temp_images/C1\u001b[0m\n"
     ]
    },
    {
     "name": "stdout",
     "output_type": "stream",
     "text": [
      "image: Gagva_PondFix_16.json\n"
     ]
    },
    {
     "name": "stderr",
     "output_type": "stream",
     "text": [
      "2024-08-06 12:26:19,635 [\u001b[1m\u001b[97mINFO   \u001b[0m] \u001b[36mexport_json\u001b[0m:\u001b[36mmain\u001b[0m:\u001b[36m66\u001b[0m- \u001b[1m\u001b[97mSaved to: temp_images/Gagva_PondFix_16\u001b[0m\n",
      "mkdir: cannot create directory ‘temp_images/RIL’: File exists\n"
     ]
    },
    {
     "name": "stdout",
     "output_type": "stream",
     "text": [
      "image: RIL 1216_19.json\n"
     ]
    },
    {
     "name": "stderr",
     "output_type": "stream",
     "text": [
      "usage: labelme_export_json [-h] [-o OUT] json_file\n",
      "labelme_export_json: error: unrecognized arguments: 1216_19.json 1216_19\n"
     ]
    },
    {
     "name": "stdout",
     "output_type": "stream",
     "text": [
      "image: B7.json\n"
     ]
    },
    {
     "name": "stderr",
     "output_type": "stream",
     "text": [
      "2024-08-06 12:26:21,754 [\u001b[1m\u001b[97mINFO   \u001b[0m] \u001b[36mexport_json\u001b[0m:\u001b[36mmain\u001b[0m:\u001b[36m66\u001b[0m- \u001b[1m\u001b[97mSaved to: temp_images/B7\u001b[0m\n"
     ]
    },
    {
     "name": "stdout",
     "output_type": "stream",
     "text": [
      "image: E9.json\n"
     ]
    },
    {
     "name": "stderr",
     "output_type": "stream",
     "text": [
      "2024-08-06 12:26:22,946 [\u001b[1m\u001b[97mINFO   \u001b[0m] \u001b[36mexport_json\u001b[0m:\u001b[36mmain\u001b[0m:\u001b[36m66\u001b[0m- \u001b[1m\u001b[97mSaved to: temp_images/E9\u001b[0m\n"
     ]
    },
    {
     "name": "stdout",
     "output_type": "stream",
     "text": [
      "image: Z9.json\n"
     ]
    },
    {
     "name": "stderr",
     "output_type": "stream",
     "text": [
      "2024-08-06 12:26:24,880 [\u001b[1m\u001b[97mINFO   \u001b[0m] \u001b[36mexport_json\u001b[0m:\u001b[36mmain\u001b[0m:\u001b[36m66\u001b[0m- \u001b[1m\u001b[97mSaved to: temp_images/Z9\u001b[0m\n"
     ]
    },
    {
     "name": "stdout",
     "output_type": "stream",
     "text": [
      "image: Z13.json\n"
     ]
    },
    {
     "name": "stderr",
     "output_type": "stream",
     "text": [
      "2024-08-06 12:26:26,772 [\u001b[1m\u001b[97mINFO   \u001b[0m] \u001b[36mexport_json\u001b[0m:\u001b[36mmain\u001b[0m:\u001b[36m66\u001b[0m- \u001b[1m\u001b[97mSaved to: temp_images/Z13\u001b[0m\n"
     ]
    },
    {
     "name": "stdout",
     "output_type": "stream",
     "text": [
      "image: POND_001.json\n"
     ]
    },
    {
     "name": "stderr",
     "output_type": "stream",
     "text": [
      "2024-08-06 12:26:28,778 [\u001b[1m\u001b[97mINFO   \u001b[0m] \u001b[36mexport_json\u001b[0m:\u001b[36mmain\u001b[0m:\u001b[36m66\u001b[0m- \u001b[1m\u001b[97mSaved to: temp_images/POND_001\u001b[0m\n",
      "mkdir: cannot create directory ‘temp_images/RIL’: File exists\n"
     ]
    },
    {
     "name": "stdout",
     "output_type": "stream",
     "text": [
      "image: RIL 1216_14.json\n"
     ]
    },
    {
     "name": "stderr",
     "output_type": "stream",
     "text": [
      "usage: labelme_export_json [-h] [-o OUT] json_file\n",
      "labelme_export_json: error: unrecognized arguments: 1216_14.json 1216_14\n"
     ]
    },
    {
     "name": "stdout",
     "output_type": "stream",
     "text": [
      "image: RIL1211_20.json\n"
     ]
    },
    {
     "name": "stderr",
     "output_type": "stream",
     "text": [
      "2024-08-06 12:26:31,607 [\u001b[1m\u001b[97mINFO   \u001b[0m] \u001b[36mexport_json\u001b[0m:\u001b[36mmain\u001b[0m:\u001b[36m66\u001b[0m- \u001b[1m\u001b[97mSaved to: temp_images/RIL1211_20\u001b[0m\n"
     ]
    },
    {
     "name": "stdout",
     "output_type": "stream",
     "text": [
      "image: Gagva_LabFixed_3.json\n"
     ]
    },
    {
     "name": "stderr",
     "output_type": "stream",
     "text": [
      "2024-08-06 12:26:32,783 [\u001b[1m\u001b[97mINFO   \u001b[0m] \u001b[36mexport_json\u001b[0m:\u001b[36mmain\u001b[0m:\u001b[36m66\u001b[0m- \u001b[1m\u001b[97mSaved to: temp_images/Gagva_LabFixed_3\u001b[0m\n"
     ]
    },
    {
     "name": "stdout",
     "output_type": "stream",
     "text": [
      "image: C6.json\n"
     ]
    },
    {
     "name": "stderr",
     "output_type": "stream",
     "text": [
      "2024-08-06 12:26:34,607 [\u001b[1m\u001b[97mINFO   \u001b[0m] \u001b[36mexport_json\u001b[0m:\u001b[36mmain\u001b[0m:\u001b[36m66\u001b[0m- \u001b[1m\u001b[97mSaved to: temp_images/C6\u001b[0m\n",
      "mkdir: cannot create directory ‘temp_images/RIL’: File exists\n"
     ]
    },
    {
     "name": "stdout",
     "output_type": "stream",
     "text": [
      "image: RIL 601_11.json\n"
     ]
    },
    {
     "name": "stderr",
     "output_type": "stream",
     "text": [
      "usage: labelme_export_json [-h] [-o OUT] json_file\n",
      "labelme_export_json: error: unrecognized arguments: 601_11.json 601_11\n"
     ]
    },
    {
     "name": "stdout",
     "output_type": "stream",
     "text": [
      "image: D16.json\n"
     ]
    },
    {
     "name": "stderr",
     "output_type": "stream",
     "text": [
      "2024-08-06 12:26:36,741 [\u001b[1m\u001b[97mINFO   \u001b[0m] \u001b[36mexport_json\u001b[0m:\u001b[36mmain\u001b[0m:\u001b[36m66\u001b[0m- \u001b[1m\u001b[97mSaved to: temp_images/D16\u001b[0m\n"
     ]
    },
    {
     "name": "stdout",
     "output_type": "stream",
     "text": [
      "image: RIL1211_10.json\n"
     ]
    },
    {
     "name": "stderr",
     "output_type": "stream",
     "text": [
      "2024-08-06 12:26:38,729 [\u001b[1m\u001b[97mINFO   \u001b[0m] \u001b[36mexport_json\u001b[0m:\u001b[36mmain\u001b[0m:\u001b[36m66\u001b[0m- \u001b[1m\u001b[97mSaved to: temp_images/RIL1211_10\u001b[0m\n"
     ]
    },
    {
     "name": "stdout",
     "output_type": "stream",
     "text": [
      "image: L7.json\n"
     ]
    },
    {
     "name": "stderr",
     "output_type": "stream",
     "text": [
      "2024-08-06 12:26:40,959 [\u001b[1m\u001b[97mINFO   \u001b[0m] \u001b[36mexport_json\u001b[0m:\u001b[36mmain\u001b[0m:\u001b[36m66\u001b[0m- \u001b[1m\u001b[97mSaved to: temp_images/L7\u001b[0m\n"
     ]
    },
    {
     "name": "stdout",
     "output_type": "stream",
     "text": [
      "image: RIL1217_9.json\n"
     ]
    },
    {
     "name": "stderr",
     "output_type": "stream",
     "text": [
      "2024-08-06 12:26:43,167 [\u001b[1m\u001b[97mINFO   \u001b[0m] \u001b[36mexport_json\u001b[0m:\u001b[36mmain\u001b[0m:\u001b[36m66\u001b[0m- \u001b[1m\u001b[97mSaved to: temp_images/RIL1217_9\u001b[0m\n",
      "mkdir: cannot create directory ‘temp_images/RIL’: File exists\n"
     ]
    },
    {
     "name": "stdout",
     "output_type": "stream",
     "text": [
      "image: RIL 601_9.json\n"
     ]
    },
    {
     "name": "stderr",
     "output_type": "stream",
     "text": [
      "usage: labelme_export_json [-h] [-o OUT] json_file\n",
      "labelme_export_json: error: unrecognized arguments: 601_9.json 601_9\n"
     ]
    },
    {
     "name": "stdout",
     "output_type": "stream",
     "text": [
      "image: 18.json\n"
     ]
    },
    {
     "name": "stderr",
     "output_type": "stream",
     "text": [
      "2024-08-06 12:26:45,952 [\u001b[1m\u001b[97mINFO   \u001b[0m] \u001b[36mexport_json\u001b[0m:\u001b[36mmain\u001b[0m:\u001b[36m66\u001b[0m- \u001b[1m\u001b[97mSaved to: temp_images/18\u001b[0m\n"
     ]
    },
    {
     "name": "stdout",
     "output_type": "stream",
     "text": [
      "image: 300000.0V8100X0001.json\n"
     ]
    },
    {
     "name": "stderr",
     "output_type": "stream",
     "text": [
      "2024-08-06 12:27:04,235 [\u001b[1m\u001b[97mINFO   \u001b[0m] \u001b[36mexport_json\u001b[0m:\u001b[36mmain\u001b[0m:\u001b[36m66\u001b[0m- \u001b[1m\u001b[97mSaved to: temp_images/300000.0V8100X0001\u001b[0m\n"
     ]
    },
    {
     "name": "stdout",
     "output_type": "stream",
     "text": [
      "image: RIL1211_3.json\n"
     ]
    },
    {
     "name": "stderr",
     "output_type": "stream",
     "text": [
      "2024-08-06 12:27:06,239 [\u001b[1m\u001b[97mINFO   \u001b[0m] \u001b[36mexport_json\u001b[0m:\u001b[36mmain\u001b[0m:\u001b[36m66\u001b[0m- \u001b[1m\u001b[97mSaved to: temp_images/RIL1211_3\u001b[0m\n"
     ]
    },
    {
     "name": "stdout",
     "output_type": "stream",
     "text": [
      "image: V4.json\n"
     ]
    },
    {
     "name": "stderr",
     "output_type": "stream",
     "text": [
      "2024-08-06 12:27:08,136 [\u001b[1m\u001b[97mINFO   \u001b[0m] \u001b[36mexport_json\u001b[0m:\u001b[36mmain\u001b[0m:\u001b[36m66\u001b[0m- \u001b[1m\u001b[97mSaved to: temp_images/V4\u001b[0m\n"
     ]
    },
    {
     "name": "stdout",
     "output_type": "stream",
     "text": [
      "image: Z18.json\n"
     ]
    },
    {
     "name": "stderr",
     "output_type": "stream",
     "text": [
      "2024-08-06 12:27:10,075 [\u001b[1m\u001b[97mINFO   \u001b[0m] \u001b[36mexport_json\u001b[0m:\u001b[36mmain\u001b[0m:\u001b[36m66\u001b[0m- \u001b[1m\u001b[97mSaved to: temp_images/Z18\u001b[0m\n"
     ]
    },
    {
     "name": "stdout",
     "output_type": "stream",
     "text": [
      "image: GP07-Pond0007.json\n"
     ]
    },
    {
     "name": "stderr",
     "output_type": "stream",
     "text": [
      "2024-08-06 12:27:14,991 [\u001b[1m\u001b[97mINFO   \u001b[0m] \u001b[36mexport_json\u001b[0m:\u001b[36mmain\u001b[0m:\u001b[36m66\u001b[0m- \u001b[1m\u001b[97mSaved to: temp_images/GP07-Pond0007\u001b[0m\n"
     ]
    },
    {
     "name": "stdout",
     "output_type": "stream",
     "text": [
      "image: L12.json\n"
     ]
    },
    {
     "name": "stderr",
     "output_type": "stream",
     "text": [
      "2024-08-06 12:27:16,819 [\u001b[1m\u001b[97mINFO   \u001b[0m] \u001b[36mexport_json\u001b[0m:\u001b[36mmain\u001b[0m:\u001b[36m66\u001b[0m- \u001b[1m\u001b[97mSaved to: temp_images/L12\u001b[0m\n"
     ]
    },
    {
     "name": "stdout",
     "output_type": "stream",
     "text": [
      "image: A5.json\n"
     ]
    },
    {
     "name": "stderr",
     "output_type": "stream",
     "text": [
      "2024-08-06 12:27:18,427 [\u001b[1m\u001b[97mINFO   \u001b[0m] \u001b[36mexport_json\u001b[0m:\u001b[36mmain\u001b[0m:\u001b[36m66\u001b[0m- \u001b[1m\u001b[97mSaved to: temp_images/A5\u001b[0m\n"
     ]
    },
    {
     "name": "stdout",
     "output_type": "stream",
     "text": [
      "image: S9.json\n"
     ]
    },
    {
     "name": "stderr",
     "output_type": "stream",
     "text": [
      "2024-08-06 12:27:20,663 [\u001b[1m\u001b[97mINFO   \u001b[0m] \u001b[36mexport_json\u001b[0m:\u001b[36mmain\u001b[0m:\u001b[36m66\u001b[0m- \u001b[1m\u001b[97mSaved to: temp_images/S9\u001b[0m\n"
     ]
    },
    {
     "name": "stdout",
     "output_type": "stream",
     "text": [
      "image: S4.json\n"
     ]
    },
    {
     "name": "stderr",
     "output_type": "stream",
     "text": [
      "2024-08-06 12:27:22,827 [\u001b[1m\u001b[97mINFO   \u001b[0m] \u001b[36mexport_json\u001b[0m:\u001b[36mmain\u001b[0m:\u001b[36m66\u001b[0m- \u001b[1m\u001b[97mSaved to: temp_images/S4\u001b[0m\n"
     ]
    },
    {
     "name": "stdout",
     "output_type": "stream",
     "text": [
      "image: GP07-Germplasm0017.json\n"
     ]
    },
    {
     "name": "stderr",
     "output_type": "stream",
     "text": [
      "2024-08-06 12:27:41,792 [\u001b[1m\u001b[97mINFO   \u001b[0m] \u001b[36mexport_json\u001b[0m:\u001b[36mmain\u001b[0m:\u001b[36m66\u001b[0m- \u001b[1m\u001b[97mSaved to: temp_images/GP07-Germplasm0017\u001b[0m\n"
     ]
    },
    {
     "name": "stdout",
     "output_type": "stream",
     "text": [
      "image: A20.json\n"
     ]
    },
    {
     "name": "stderr",
     "output_type": "stream",
     "text": [
      "2024-08-06 12:27:43,022 [\u001b[1m\u001b[97mINFO   \u001b[0m] \u001b[36mexport_json\u001b[0m:\u001b[36mmain\u001b[0m:\u001b[36m66\u001b[0m- \u001b[1m\u001b[97mSaved to: temp_images/A20\u001b[0m\n"
     ]
    },
    {
     "name": "stdout",
     "output_type": "stream",
     "text": [
      "image: V5.json\n"
     ]
    },
    {
     "name": "stderr",
     "output_type": "stream",
     "text": [
      "2024-08-06 12:27:44,897 [\u001b[1m\u001b[97mINFO   \u001b[0m] \u001b[36mexport_json\u001b[0m:\u001b[36mmain\u001b[0m:\u001b[36m66\u001b[0m- \u001b[1m\u001b[97mSaved to: temp_images/V5\u001b[0m\n"
     ]
    },
    {
     "name": "stdout",
     "output_type": "stream",
     "text": [
      "image: GP07-Germplasm300000.0V10000X0009.json\n"
     ]
    },
    {
     "name": "stderr",
     "output_type": "stream",
     "text": [
      "2024-08-06 12:28:04,103 [\u001b[1m\u001b[97mINFO   \u001b[0m] \u001b[36mexport_json\u001b[0m:\u001b[36mmain\u001b[0m:\u001b[36m66\u001b[0m- \u001b[1m\u001b[97mSaved to: temp_images/GP07-Germplasm300000.0V10000X0009\u001b[0m\n"
     ]
    },
    {
     "name": "stdout",
     "output_type": "stream",
     "text": [
      "image: L2.json\n"
     ]
    },
    {
     "name": "stderr",
     "output_type": "stream",
     "text": [
      "2024-08-06 12:28:05,785 [\u001b[1m\u001b[97mINFO   \u001b[0m] \u001b[36mexport_json\u001b[0m:\u001b[36mmain\u001b[0m:\u001b[36m66\u001b[0m- \u001b[1m\u001b[97mSaved to: temp_images/L2\u001b[0m\n"
     ]
    },
    {
     "name": "stdout",
     "output_type": "stream",
     "text": [
      "image: T11.json\n"
     ]
    },
    {
     "name": "stderr",
     "output_type": "stream",
     "text": [
      "2024-08-06 12:28:07,629 [\u001b[1m\u001b[97mINFO   \u001b[0m] \u001b[36mexport_json\u001b[0m:\u001b[36mmain\u001b[0m:\u001b[36m66\u001b[0m- \u001b[1m\u001b[97mSaved to: temp_images/T11\u001b[0m\n"
     ]
    },
    {
     "name": "stdout",
     "output_type": "stream",
     "text": [
      "image: GP07-Germplasm300000.0V10000X0010.json\n"
     ]
    },
    {
     "name": "stderr",
     "output_type": "stream",
     "text": [
      "2024-08-06 12:28:26,997 [\u001b[1m\u001b[97mINFO   \u001b[0m] \u001b[36mexport_json\u001b[0m:\u001b[36mmain\u001b[0m:\u001b[36m66\u001b[0m- \u001b[1m\u001b[97mSaved to: temp_images/GP07-Germplasm300000.0V10000X0010\u001b[0m\n"
     ]
    },
    {
     "name": "stdout",
     "output_type": "stream",
     "text": [
      "image: S5.json\n"
     ]
    },
    {
     "name": "stderr",
     "output_type": "stream",
     "text": [
      "2024-08-06 12:28:28,706 [\u001b[1m\u001b[97mINFO   \u001b[0m] \u001b[36mexport_json\u001b[0m:\u001b[36mmain\u001b[0m:\u001b[36m66\u001b[0m- \u001b[1m\u001b[97mSaved to: temp_images/S5\u001b[0m\n"
     ]
    },
    {
     "name": "stdout",
     "output_type": "stream",
     "text": [
      "image: PondFix_19i.json\n"
     ]
    },
    {
     "name": "stderr",
     "output_type": "stream",
     "text": [
      "2024-08-06 12:28:29,909 [\u001b[1m\u001b[97mINFO   \u001b[0m] \u001b[36mexport_json\u001b[0m:\u001b[36mmain\u001b[0m:\u001b[36m66\u001b[0m- \u001b[1m\u001b[97mSaved to: temp_images/PondFix_19i\u001b[0m\n"
     ]
    },
    {
     "name": "stdout",
     "output_type": "stream",
     "text": [
      "image: C2.json\n"
     ]
    },
    {
     "name": "stderr",
     "output_type": "stream",
     "text": [
      "2024-08-06 12:28:31,741 [\u001b[1m\u001b[97mINFO   \u001b[0m] \u001b[36mexport_json\u001b[0m:\u001b[36mmain\u001b[0m:\u001b[36m66\u001b[0m- \u001b[1m\u001b[97mSaved to: temp_images/C2\u001b[0m\n",
      "mkdir: cannot create directory ‘temp_images/RIL’: File exists\n"
     ]
    },
    {
     "name": "stdout",
     "output_type": "stream",
     "text": [
      "image: RIL 1216_8.json\n"
     ]
    },
    {
     "name": "stderr",
     "output_type": "stream",
     "text": [
      "usage: labelme_export_json [-h] [-o OUT] json_file\n",
      "labelme_export_json: error: unrecognized arguments: 1216_8.json 1216_8\n"
     ]
    },
    {
     "name": "stdout",
     "output_type": "stream",
     "text": [
      "image: Z1.json\n"
     ]
    },
    {
     "name": "stderr",
     "output_type": "stream",
     "text": [
      "2024-08-06 12:28:34,615 [\u001b[1m\u001b[97mINFO   \u001b[0m] \u001b[36mexport_json\u001b[0m:\u001b[36mmain\u001b[0m:\u001b[36m66\u001b[0m- \u001b[1m\u001b[97mSaved to: temp_images/Z1\u001b[0m\n"
     ]
    },
    {
     "name": "stdout",
     "output_type": "stream",
     "text": [
      "image: STEM2_invert.json\n"
     ]
    },
    {
     "name": "stderr",
     "output_type": "stream",
     "text": [
      "2024-08-06 12:28:36,513 [\u001b[1m\u001b[97mINFO   \u001b[0m] \u001b[36mexport_json\u001b[0m:\u001b[36mmain\u001b[0m:\u001b[36m66\u001b[0m- \u001b[1m\u001b[97mSaved to: temp_images/STEM2_invert\u001b[0m\n"
     ]
    },
    {
     "name": "stdout",
     "output_type": "stream",
     "text": [
      "image: T6.json\n"
     ]
    },
    {
     "name": "stderr",
     "output_type": "stream",
     "text": [
      "2024-08-06 12:28:38,184 [\u001b[1m\u001b[97mINFO   \u001b[0m] \u001b[36mexport_json\u001b[0m:\u001b[36mmain\u001b[0m:\u001b[36m66\u001b[0m- \u001b[1m\u001b[97mSaved to: temp_images/T6\u001b[0m\n"
     ]
    },
    {
     "name": "stdout",
     "output_type": "stream",
     "text": [
      "image: GP07-Pond0006.json\n"
     ]
    },
    {
     "name": "stderr",
     "output_type": "stream",
     "text": [
      "2024-08-06 12:28:43,233 [\u001b[1m\u001b[97mINFO   \u001b[0m] \u001b[36mexport_json\u001b[0m:\u001b[36mmain\u001b[0m:\u001b[36m66\u001b[0m- \u001b[1m\u001b[97mSaved to: temp_images/GP07-Pond0006\u001b[0m\n"
     ]
    },
    {
     "name": "stdout",
     "output_type": "stream",
     "text": [
      "image: Z12.json\n"
     ]
    },
    {
     "name": "stderr",
     "output_type": "stream",
     "text": [
      "2024-08-06 12:28:45,149 [\u001b[1m\u001b[97mINFO   \u001b[0m] \u001b[36mexport_json\u001b[0m:\u001b[36mmain\u001b[0m:\u001b[36m66\u001b[0m- \u001b[1m\u001b[97mSaved to: temp_images/Z12\u001b[0m\n"
     ]
    },
    {
     "name": "stdout",
     "output_type": "stream",
     "text": [
      "image: T5.json\n"
     ]
    },
    {
     "name": "stderr",
     "output_type": "stream",
     "text": [
      "2024-08-06 12:28:47,017 [\u001b[1m\u001b[97mINFO   \u001b[0m] \u001b[36mexport_json\u001b[0m:\u001b[36mmain\u001b[0m:\u001b[36m66\u001b[0m- \u001b[1m\u001b[97mSaved to: temp_images/T5\u001b[0m\n"
     ]
    },
    {
     "name": "stdout",
     "output_type": "stream",
     "text": [
      "image: Gagva_PondFix_23.json\n"
     ]
    },
    {
     "name": "stderr",
     "output_type": "stream",
     "text": [
      "2024-08-06 12:28:48,244 [\u001b[1m\u001b[97mINFO   \u001b[0m] \u001b[36mexport_json\u001b[0m:\u001b[36mmain\u001b[0m:\u001b[36m66\u001b[0m- \u001b[1m\u001b[97mSaved to: temp_images/Gagva_PondFix_23\u001b[0m\n"
     ]
    },
    {
     "name": "stdout",
     "output_type": "stream",
     "text": [
      "image: RIL1217_8.json\n"
     ]
    },
    {
     "name": "stderr",
     "output_type": "stream",
     "text": [
      "2024-08-06 12:28:50,249 [\u001b[1m\u001b[97mINFO   \u001b[0m] \u001b[36mexport_json\u001b[0m:\u001b[36mmain\u001b[0m:\u001b[36m66\u001b[0m- \u001b[1m\u001b[97mSaved to: temp_images/RIL1217_8\u001b[0m\n"
     ]
    },
    {
     "name": "stdout",
     "output_type": "stream",
     "text": [
      "image: D2.json\n"
     ]
    },
    {
     "name": "stderr",
     "output_type": "stream",
     "text": [
      "2024-08-06 12:28:51,457 [\u001b[1m\u001b[97mINFO   \u001b[0m] \u001b[36mexport_json\u001b[0m:\u001b[36mmain\u001b[0m:\u001b[36m66\u001b[0m- \u001b[1m\u001b[97mSaved to: temp_images/D2\u001b[0m\n"
     ]
    },
    {
     "name": "stdout",
     "output_type": "stream",
     "text": [
      "image: RIL1211_9.json\n"
     ]
    },
    {
     "name": "stderr",
     "output_type": "stream",
     "text": [
      "2024-08-06 12:28:53,458 [\u001b[1m\u001b[97mINFO   \u001b[0m] \u001b[36mexport_json\u001b[0m:\u001b[36mmain\u001b[0m:\u001b[36m66\u001b[0m- \u001b[1m\u001b[97mSaved to: temp_images/RIL1211_9\u001b[0m\n",
      "mkdir: cannot create directory ‘temp_images/RIL’: File exists\n"
     ]
    },
    {
     "name": "stdout",
     "output_type": "stream",
     "text": [
      "image: RIL 1216_11.json\n"
     ]
    },
    {
     "name": "stderr",
     "output_type": "stream",
     "text": [
      "usage: labelme_export_json [-h] [-o OUT] json_file\n",
      "labelme_export_json: error: unrecognized arguments: 1216_11.json 1216_11\n"
     ]
    },
    {
     "name": "stdout",
     "output_type": "stream",
     "text": [
      "image: E6.json\n"
     ]
    },
    {
     "name": "stderr",
     "output_type": "stream",
     "text": [
      "2024-08-06 12:28:55,581 [\u001b[1m\u001b[97mINFO   \u001b[0m] \u001b[36mexport_json\u001b[0m:\u001b[36mmain\u001b[0m:\u001b[36m66\u001b[0m- \u001b[1m\u001b[97mSaved to: temp_images/E6\u001b[0m\n"
     ]
    },
    {
     "name": "stdout",
     "output_type": "stream",
     "text": [
      "image: GP07-Pond0014.json\n"
     ]
    },
    {
     "name": "stderr",
     "output_type": "stream",
     "text": [
      "2024-08-06 12:29:00,073 [\u001b[1m\u001b[97mINFO   \u001b[0m] \u001b[36mexport_json\u001b[0m:\u001b[36mmain\u001b[0m:\u001b[36m66\u001b[0m- \u001b[1m\u001b[97mSaved to: temp_images/GP07-Pond0014\u001b[0m\n"
     ]
    },
    {
     "name": "stdout",
     "output_type": "stream",
     "text": [
      "image: T8.json\n"
     ]
    },
    {
     "name": "stderr",
     "output_type": "stream",
     "text": [
      "2024-08-06 12:29:01,870 [\u001b[1m\u001b[97mINFO   \u001b[0m] \u001b[36mexport_json\u001b[0m:\u001b[36mmain\u001b[0m:\u001b[36m66\u001b[0m- \u001b[1m\u001b[97mSaved to: temp_images/T8\u001b[0m\n"
     ]
    },
    {
     "name": "stdout",
     "output_type": "stream",
     "text": [
      "image: D12.json\n"
     ]
    },
    {
     "name": "stderr",
     "output_type": "stream",
     "text": [
      "2024-08-06 12:29:03,083 [\u001b[1m\u001b[97mINFO   \u001b[0m] \u001b[36mexport_json\u001b[0m:\u001b[36mmain\u001b[0m:\u001b[36m66\u001b[0m- \u001b[1m\u001b[97mSaved to: temp_images/D12\u001b[0m\n"
     ]
    },
    {
     "name": "stdout",
     "output_type": "stream",
     "text": [
      "image: Gagva_LabFixed_13.json\n"
     ]
    },
    {
     "name": "stderr",
     "output_type": "stream",
     "text": [
      "2024-08-06 12:29:04,278 [\u001b[1m\u001b[97mINFO   \u001b[0m] \u001b[36mexport_json\u001b[0m:\u001b[36mmain\u001b[0m:\u001b[36m66\u001b[0m- \u001b[1m\u001b[97mSaved to: temp_images/Gagva_LabFixed_13\u001b[0m\n"
     ]
    },
    {
     "name": "stdout",
     "output_type": "stream",
     "text": [
      "image: V8.json\n"
     ]
    },
    {
     "name": "stderr",
     "output_type": "stream",
     "text": [
      "2024-08-06 12:29:06,143 [\u001b[1m\u001b[97mINFO   \u001b[0m] \u001b[36mexport_json\u001b[0m:\u001b[36mmain\u001b[0m:\u001b[36m66\u001b[0m- \u001b[1m\u001b[97mSaved to: temp_images/V8\u001b[0m\n"
     ]
    },
    {
     "name": "stdout",
     "output_type": "stream",
     "text": [
      "image: RIL1211_8.json\n"
     ]
    },
    {
     "name": "stderr",
     "output_type": "stream",
     "text": [
      "2024-08-06 12:29:08,191 [\u001b[1m\u001b[97mINFO   \u001b[0m] \u001b[36mexport_json\u001b[0m:\u001b[36mmain\u001b[0m:\u001b[36m66\u001b[0m- \u001b[1m\u001b[97mSaved to: temp_images/RIL1211_8\u001b[0m\n"
     ]
    },
    {
     "name": "stdout",
     "output_type": "stream",
     "text": [
      "image: B19.json\n"
     ]
    },
    {
     "name": "stderr",
     "output_type": "stream",
     "text": [
      "2024-08-06 12:29:09,409 [\u001b[1m\u001b[97mINFO   \u001b[0m] \u001b[36mexport_json\u001b[0m:\u001b[36mmain\u001b[0m:\u001b[36m66\u001b[0m- \u001b[1m\u001b[97mSaved to: temp_images/B19\u001b[0m\n"
     ]
    },
    {
     "name": "stdout",
     "output_type": "stream",
     "text": [
      "image: RIL1217_7.json\n"
     ]
    },
    {
     "name": "stderr",
     "output_type": "stream",
     "text": [
      "2024-08-06 12:29:11,412 [\u001b[1m\u001b[97mINFO   \u001b[0m] \u001b[36mexport_json\u001b[0m:\u001b[36mmain\u001b[0m:\u001b[36m66\u001b[0m- \u001b[1m\u001b[97mSaved to: temp_images/RIL1217_7\u001b[0m\n"
     ]
    },
    {
     "name": "stdout",
     "output_type": "stream",
     "text": [
      "image: RIL1211_15.json\n"
     ]
    },
    {
     "name": "stderr",
     "output_type": "stream",
     "text": [
      "2024-08-06 12:29:13,372 [\u001b[1m\u001b[97mINFO   \u001b[0m] \u001b[36mexport_json\u001b[0m:\u001b[36mmain\u001b[0m:\u001b[36m66\u001b[0m- \u001b[1m\u001b[97mSaved to: temp_images/RIL1211_15\u001b[0m\n"
     ]
    },
    {
     "name": "stdout",
     "output_type": "stream",
     "text": [
      "image: A8.json\n"
     ]
    },
    {
     "name": "stderr",
     "output_type": "stream",
     "text": [
      "Traceback (most recent call last):\n",
      "  File \"/home/ankit/Desktop/ml/Tensorflow_ENV/tfenv/bin/labelme_export_json\", line 8, in <module>\n",
      "    sys.exit(main())\n",
      "  File \"/home/ankit/Desktop/ml/Tensorflow_ENV/tfenv/lib/python3.9/site-packages/labelme/cli/export_json.py\", line 48, in main\n",
      "    lbl, _ = utils.shapes_to_label(img.shape, data[\"shapes\"], label_name_to_value)\n",
      "  File \"/home/ankit/Desktop/ml/Tensorflow_ENV/tfenv/lib/python3.9/site-packages/labelme/utils/shape.py\", line 71, in shapes_to_label\n",
      "    mask = shape_to_mask(img_shape[:2], points, shape_type)\n",
      "  File \"/home/ankit/Desktop/ml/Tensorflow_ENV/tfenv/lib/python3.9/site-packages/labelme/utils/shape.py\", line 45, in shape_to_mask\n",
      "    assert len(xy) > 2, \"Polygon must have points more than 2\"\n",
      "AssertionError: Polygon must have points more than 2\n"
     ]
    },
    {
     "name": "stdout",
     "output_type": "stream",
     "text": [
      "image: P2.json\n"
     ]
    },
    {
     "name": "stderr",
     "output_type": "stream",
     "text": [
      "2024-08-06 12:29:16,188 [\u001b[1m\u001b[97mINFO   \u001b[0m] \u001b[36mexport_json\u001b[0m:\u001b[36mmain\u001b[0m:\u001b[36m66\u001b[0m- \u001b[1m\u001b[97mSaved to: temp_images/P2\u001b[0m\n"
     ]
    },
    {
     "name": "stdout",
     "output_type": "stream",
     "text": [
      "image: 5.json\n"
     ]
    },
    {
     "name": "stderr",
     "output_type": "stream",
     "text": [
      "2024-08-06 12:29:18,079 [\u001b[1m\u001b[97mINFO   \u001b[0m] \u001b[36mexport_json\u001b[0m:\u001b[36mmain\u001b[0m:\u001b[36m66\u001b[0m- \u001b[1m\u001b[97mSaved to: temp_images/5\u001b[0m\n",
      "mkdir: cannot create directory ‘temp_images/RIL’: File exists\n"
     ]
    },
    {
     "name": "stdout",
     "output_type": "stream",
     "text": [
      "image: RIL 601_14.json\n"
     ]
    },
    {
     "name": "stderr",
     "output_type": "stream",
     "text": [
      "usage: labelme_export_json [-h] [-o OUT] json_file\n",
      "labelme_export_json: error: unrecognized arguments: 601_14.json 601_14\n"
     ]
    },
    {
     "name": "stdout",
     "output_type": "stream",
     "text": [
      "image: stem7_inv.json\n"
     ]
    },
    {
     "name": "stderr",
     "output_type": "stream",
     "text": [
      "2024-08-06 12:29:20,803 [\u001b[1m\u001b[97mINFO   \u001b[0m] \u001b[36mexport_json\u001b[0m:\u001b[36mmain\u001b[0m:\u001b[36m66\u001b[0m- \u001b[1m\u001b[97mSaved to: temp_images/stem7_inv\u001b[0m\n",
      "mkdir: cannot create directory ‘temp_images/RIL’: File exists\n"
     ]
    },
    {
     "name": "stdout",
     "output_type": "stream",
     "text": [
      "image: RIL 1216_1.json\n"
     ]
    },
    {
     "name": "stderr",
     "output_type": "stream",
     "text": [
      "usage: labelme_export_json [-h] [-o OUT] json_file\n",
      "labelme_export_json: error: unrecognized arguments: 1216_1.json 1216_1\n"
     ]
    },
    {
     "name": "stdout",
     "output_type": "stream",
     "text": [
      "image: RIL1211_1.json\n"
     ]
    },
    {
     "name": "stderr",
     "output_type": "stream",
     "text": [
      "2024-08-06 12:29:23,777 [\u001b[1m\u001b[97mINFO   \u001b[0m] \u001b[36mexport_json\u001b[0m:\u001b[36mmain\u001b[0m:\u001b[36m66\u001b[0m- \u001b[1m\u001b[97mSaved to: temp_images/RIL1211_1\u001b[0m\n"
     ]
    },
    {
     "name": "stdout",
     "output_type": "stream",
     "text": [
      "image: S12.json\n"
     ]
    },
    {
     "name": "stderr",
     "output_type": "stream",
     "text": [
      "2024-08-06 12:29:25,599 [\u001b[1m\u001b[97mINFO   \u001b[0m] \u001b[36mexport_json\u001b[0m:\u001b[36mmain\u001b[0m:\u001b[36m66\u001b[0m- \u001b[1m\u001b[97mSaved to: temp_images/S12\u001b[0m\n"
     ]
    }
   ],
   "source": [
    "import labelme\n",
    "import os, sys\n",
    "path=os.path.join(os.getcwd(),'AnnotatedImages/')\n",
    "dirs = os.listdir(path)\n",
    "i=0\n",
    "for item in dirs:\n",
    "    if item.endswith(\".json\"):\n",
    "        if os.path.isfile(path+item):\n",
    "            my_dest =\"temp_images/\" + item[:-5]\n",
    "            os.system(\"mkdir \"+my_dest)\n",
    "            print(\"image:\",item)\n",
    "            os.system(\"labelme_export_json \"+path+item+\" -o \"+my_dest)\n",
    "            i=i+1"
   ]
  },
  {
   "cell_type": "code",
   "execution_count": 6,
   "id": "0dbe8c97",
   "metadata": {},
   "outputs": [],
   "source": [
    "# #import json\n",
    "# path=os.path.join(os.getcwd(),'AnnotatedImages/')\n",
    "# # Opening JSON file\n",
    "# f = open(path+'B20.json')\n",
    "\n",
    "# # returns JSON object as \n",
    "# # a dictionary\n",
    "# data = json.load(f)\n",
    "# data"
   ]
  },
  {
   "cell_type": "code",
   "execution_count": 7,
   "id": "52e14471",
   "metadata": {},
   "outputs": [],
   "source": [
    "path=os.path.join(os.getcwd(),'temp_images/')\n",
    "def delete_empty_folders(root):\n",
    "\n",
    "    deleted = set()\n",
    "    \n",
    "    for current_dir, subdirs, files in os.walk(root, topdown=False):\n",
    "\n",
    "        still_has_subdirs = False\n",
    "        for subdir in subdirs:\n",
    "            if os.path.join(current_dir, subdir) not in deleted:\n",
    "                still_has_subdirs = True\n",
    "                break\n",
    "    \n",
    "        if not any(files) and not still_has_subdirs:\n",
    "            os.rmdir(current_dir)\n",
    "            deleted.add(current_dir)\n",
    "delete_empty_folders(path)"
   ]
  },
  {
   "cell_type": "code",
   "execution_count": 8,
   "id": "6632644d",
   "metadata": {},
   "outputs": [],
   "source": [
    "dir=path\n",
    "masked_path=os.path.join(os.getcwd(),'masked_images/')\n",
    "original_path=os.path.join(os.getcwd(),'original_images/')\n",
    "def mask_images(dir):\n",
    "    new_masked_image = []\n",
    "    original_image=[]\n",
    "    for root, dirs, files in os.walk(dir):\n",
    "        for name in files:\n",
    "            if name=='label.png':\n",
    "                shutil.move(root+'/'+name,masked_path+str(root).split('/')[-1]+'.png')\n",
    "                new_masked_image.append(os.path.join(root, name))\n",
    "            elif name=='img.png':\n",
    "                shutil.move(root+'/'+name,original_path+str(root).split('/')[-1]+'.png')\n",
    "                original_image.append(os.path.join(root, name))"
   ]
  },
  {
   "cell_type": "code",
   "execution_count": 9,
   "id": "563b790a",
   "metadata": {},
   "outputs": [],
   "source": [
    "mask_images(path)"
   ]
  },
  {
   "cell_type": "code",
   "execution_count": null,
   "id": "7bb142f4",
   "metadata": {},
   "outputs": [],
   "source": []
  },
  {
   "cell_type": "code",
   "execution_count": null,
   "id": "0de6741c",
   "metadata": {},
   "outputs": [],
   "source": []
  },
  {
   "cell_type": "code",
   "execution_count": null,
   "id": "577f88c7",
   "metadata": {},
   "outputs": [],
   "source": []
  },
  {
   "cell_type": "code",
   "execution_count": null,
   "id": "ec4404a0",
   "metadata": {},
   "outputs": [],
   "source": []
  }
 ],
 "metadata": {
  "kernelspec": {
   "display_name": "Python 3 (ipykernel)",
   "language": "python",
   "name": "python3"
  },
  "language_info": {
   "codemirror_mode": {
    "name": "ipython",
    "version": 3
   },
   "file_extension": ".py",
   "mimetype": "text/x-python",
   "name": "python",
   "nbconvert_exporter": "python",
   "pygments_lexer": "ipython3",
   "version": "3.9.19"
  }
 },
 "nbformat": 4,
 "nbformat_minor": 5
}
