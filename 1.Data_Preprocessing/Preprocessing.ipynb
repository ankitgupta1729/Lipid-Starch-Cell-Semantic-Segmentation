{
 "cells": [
  {
   "cell_type": "code",
   "execution_count": 26,
   "id": "25c86e88",
   "metadata": {},
   "outputs": [],
   "source": [
    "import cv2\n",
    "from skimage import io\n",
    "from skimage import img_as_float\n",
    "from  matplotlib import pyplot as plt\n",
    "import numpy as np"
   ]
  },
  {
   "cell_type": "code",
   "execution_count": 27,
   "id": "04b65722",
   "metadata": {},
   "outputs": [],
   "source": [
    "my_image=io.imread('images/masked_images/1.png')"
   ]
  },
  {
   "cell_type": "code",
   "execution_count": 28,
   "id": "3bf285df",
   "metadata": {},
   "outputs": [
    {
     "name": "stdout",
     "output_type": "stream",
     "text": [
      "<class 'numpy.ndarray'>\n"
     ]
    }
   ],
   "source": [
    "print(type(my_image)) # image is a numpy array"
   ]
  },
  {
   "cell_type": "code",
   "execution_count": 29,
   "id": "0dafb906",
   "metadata": {},
   "outputs": [
    {
     "name": "stdout",
     "output_type": "stream",
     "text": [
      "uint8\n"
     ]
    }
   ],
   "source": [
    "print(my_image.dtype) # image is of dtype"
   ]
  },
  {
   "cell_type": "code",
   "execution_count": 30,
   "id": "051f6684",
   "metadata": {},
   "outputs": [
    {
     "name": "stdout",
     "output_type": "stream",
     "text": [
      "(1059, 1024, 3)\n"
     ]
    }
   ],
   "source": [
    "print(my_image.shape) # image is of shape"
   ]
  },
  {
   "cell_type": "code",
   "execution_count": 31,
   "id": "73832e22",
   "metadata": {},
   "outputs": [],
   "source": [
    "# open ImageJ and see the locations of pixels to verify the pixel position.\n",
    "# (x,y) as spatial coardinate corresponds to the numpy array position as [y,x]"
   ]
  },
  {
   "cell_type": "code",
   "execution_count": 32,
   "id": "279c90fe",
   "metadata": {},
   "outputs": [
    {
     "name": "stdout",
     "output_type": "stream",
     "text": [
      "[128 128   0]\n"
     ]
    }
   ],
   "source": [
    "print(my_image[338][578]) # image pixel position (578,338) in image has value of RGB as [128,128,0] -- yellow color"
   ]
  },
  {
   "cell_type": "code",
   "execution_count": null,
   "id": "feda63a5",
   "metadata": {},
   "outputs": [],
   "source": [
    "my_image=cv2.resize(my_image,(128,128))\n",
    "cv2.imshow('image',my_image)"
   ]
  },
  {
   "cell_type": "code",
   "execution_count": null,
   "id": "4625d638",
   "metadata": {},
   "outputs": [],
   "source": []
  }
 ],
 "metadata": {
  "kernelspec": {
   "display_name": "Python 3 (ipykernel)",
   "language": "python",
   "name": "python3"
  },
  "language_info": {
   "codemirror_mode": {
    "name": "ipython",
    "version": 3
   },
   "file_extension": ".py",
   "mimetype": "text/x-python",
   "name": "python",
   "nbconvert_exporter": "python",
   "pygments_lexer": "ipython3",
   "version": "3.9.19"
  }
 },
 "nbformat": 4,
 "nbformat_minor": 5
}
