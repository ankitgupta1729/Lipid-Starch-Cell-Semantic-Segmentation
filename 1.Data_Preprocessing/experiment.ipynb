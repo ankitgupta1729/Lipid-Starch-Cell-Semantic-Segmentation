{
 "cells": [
  {
   "cell_type": "code",
   "execution_count": 1,
   "id": "46c2cb5f",
   "metadata": {},
   "outputs": [],
   "source": [
    "import cv2\n",
    "from skimage import io\n",
    "from skimage import img_as_float\n",
    "from  matplotlib import pyplot as plt\n",
    "import numpy as np\n",
    "from skimage import filters\n",
    "from skimage.data import camera\n",
    "from skimage.util import compare_images\n",
    "from  skimage.filters import sobel"
   ]
  },
  {
   "cell_type": "code",
   "execution_count": 3,
   "id": "f345d2b8",
   "metadata": {},
   "outputs": [
    {
     "name": "stdout",
     "output_type": "stream",
     "text": [
      "<class 'numpy.ndarray'>\n",
      "uint8\n",
      "(1059, 1024, 3)\n"
     ]
    }
   ],
   "source": [
    "my_image=io.imread('images/masked_images/1.png')\n",
    "\n",
    "print(type(my_image)) # image is a numpy array\n",
    "\n",
    "print(my_image.dtype) # image is of dtype\n",
    "\n",
    "print(my_image.shape) # image is of shape"
   ]
  },
  {
   "cell_type": "code",
   "execution_count": 4,
   "id": "b1bfc6c9",
   "metadata": {},
   "outputs": [
    {
     "name": "stdout",
     "output_type": "stream",
     "text": [
      "[128 128   0]\n"
     ]
    }
   ],
   "source": [
    "# open ImageJ and see the locations of pixels to verify the pixel position.\n",
    "# (x,y) as spatial coardinate corresponds to the numpy array position as [y,x]\n",
    "\n",
    "print(my_image[338][578]) # image pixel position (578,338) in image has value of RGB as [128,128,0] -- yellow color\n",
    "\n"
   ]
  },
  {
   "cell_type": "code",
   "execution_count": 5,
   "id": "7644cc3f",
   "metadata": {},
   "outputs": [],
   "source": [
    "my_image=cv2.resize(my_image,(1024,1024))\n",
    "cv2.imshow('image',my_image)\n",
    "cv2.waitKey(0)\n",
    "cv2.destroyAllWindows()"
   ]
  },
  {
   "cell_type": "code",
   "execution_count": null,
   "id": "ea0c4a0f",
   "metadata": {},
   "outputs": [],
   "source": []
  }
 ],
 "metadata": {
  "kernelspec": {
   "display_name": "Python 3 (ipykernel)",
   "language": "python",
   "name": "python3"
  },
  "language_info": {
   "codemirror_mode": {
    "name": "ipython",
    "version": 3
   },
   "file_extension": ".py",
   "mimetype": "text/x-python",
   "name": "python",
   "nbconvert_exporter": "python",
   "pygments_lexer": "ipython3",
   "version": "3.9.19"
  }
 },
 "nbformat": 4,
 "nbformat_minor": 5
}
